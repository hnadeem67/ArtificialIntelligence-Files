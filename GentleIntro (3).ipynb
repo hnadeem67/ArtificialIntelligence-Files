{
  "nbformat": 4,
  "nbformat_minor": 0,
  "metadata": {
    "colab": {
      "name": "GentleIntro.ipynb",
      "provenance": []
    },
    "kernelspec": {
      "name": "python3",
      "display_name": "Python 3"
    },
    "language_info": {
      "name": "python"
    }
  },
  "cells": [
    {
      "cell_type": "code",
      "execution_count": 74,
      "metadata": {
        "id": "y_ONcZ6yF9Si"
      },
      "outputs": [],
      "source": [
        "# Description:  Class Exercise 0 \n",
        "#               This program will demostrate\n",
        "#               simple stats in python\n",
        "#               1. Calculate the mean - population and sample\n",
        "#               2. Calculate the adjusted mean, poplation and sample\n",
        "#\n",
        "# Author: Dr. Steven C. Lindo\n",
        "# Date: 1/27/2022\n",
        "# "
      ]
    },
    {
      "cell_type": "code",
      "source": [
        "import pandas as pd\n",
        "import numpy as np\n",
        "import seaborn as sns\n",
        "import matplotlib.pyplot as plt"
      ],
      "metadata": {
        "id": "35gac6ZvGq7Z"
      },
      "execution_count": 75,
      "outputs": []
    },
    {
      "cell_type": "code",
      "source": [
        "# Functions or Class Definitions\n",
        "def calcMean(p1,p2):\n",
        "\n",
        "  if p2 == 'pop':\n",
        "    avg = p1.sum() / len(p1)\n",
        "  elif p2 == 'sam':\n",
        "    avg = p1.sum() / (len(p1) -1)\n",
        "  else:\n",
        "    avg=-99999\n",
        "  \n",
        "  return avg\n",
        "\n",
        "def calcAdjMean():\n",
        "\n",
        "  #\n",
        "  # add your todo code here\n",
        "  #\n",
        "\n",
        "  return results \n"
      ],
      "metadata": {
        "id": "P4qdGrnhHIeD"
      },
      "execution_count": 76,
      "outputs": []
    },
    {
      "cell_type": "code",
      "source": [
        "def main():\n",
        "  status = 0\n",
        "  rows = 5\n",
        "  cols = 2\n",
        "\n",
        "  data = np.random.randint(0,10,size=(5,))\n",
        "  pop_mean = calcMean(data,'pop')\n",
        "  sam_mean = calcMean(data,'sam')\n",
        "\n",
        "  print('Population Mean = ', pop_mean)\n",
        "  print('Sample Mean     = ', sam_mean)\n",
        "\n",
        "  return status "
      ],
      "metadata": {
        "id": "4d6i_LCoICth"
      },
      "execution_count": 77,
      "outputs": []
    },
    {
      "cell_type": "code",
      "source": [
        "# run the program\n",
        "s = main()"
      ],
      "metadata": {
        "colab": {
          "base_uri": "https://localhost:8080/"
        },
        "id": "vUbERX5fIKp6",
        "outputId": "be5863c4-2db9-4ecc-800b-4355b1e1c3ca"
      },
      "execution_count": 78,
      "outputs": [
        {
          "output_type": "stream",
          "name": "stdout",
          "text": [
            "Population Mean =  3.4\n",
            "Sample Mean     =  4.25\n"
          ]
        }
      ]
    }
  ]
}