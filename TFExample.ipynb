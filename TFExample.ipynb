{
  "nbformat": 4,
  "nbformat_minor": 0,
  "metadata": {
    "colab": {
      "name": "TFExample.ipynb",
      "provenance": []
    },
    "kernelspec": {
      "name": "python3",
      "display_name": "Python 3"
    },
    "language_info": {
      "name": "python"
    }
  },
  "cells": [
    {
      "cell_type": "code",
      "execution_count": 1,
      "metadata": {
        "id": "ukt_sxbNYXZJ"
      },
      "outputs": [],
      "source": [
        "s1 = 'good boys go to heaven and computer boys go to google'\n",
        "s2 = 'good girls go to heaven and computer girls rule the world'"
      ]
    },
    {
      "cell_type": "code",
      "source": [
        "s1_list = s1.split()\n",
        "s2_list = s2.split()"
      ],
      "metadata": {
        "id": "_7DUF48HY3tu"
      },
      "execution_count": 2,
      "outputs": []
    },
    {
      "cell_type": "code",
      "source": [
        "token_list = []\n",
        "for i in s1_list:\n",
        "  token_list.append(i)\n",
        "\n",
        "for i in s2_list:\n",
        "  token_list.append(i)\n",
        "\n",
        "voc = set(token_list)\n",
        "\n",
        "print('token count = ', len(token_list))\n",
        "print('vocab count = ', len(voc))\n"
      ],
      "metadata": {
        "colab": {
          "base_uri": "https://localhost:8080/"
        },
        "id": "0AYS5fStZH-p",
        "outputId": "9136fbb5-33c7-44c4-d529-3dc03206663a"
      },
      "execution_count": 3,
      "outputs": [
        {
          "output_type": "stream",
          "name": "stdout",
          "text": [
            "token count =  22\n",
            "vocab count =  12\n"
          ]
        }
      ]
    }
  ]
}