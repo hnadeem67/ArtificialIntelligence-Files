{
  "nbformat": 4,
  "nbformat_minor": 0,
  "metadata": {
    "colab": {
      "name": "(3).ipynb",
      "provenance": []
    },
    "kernelspec": {
      "name": "python3",
      "display_name": "Python 3"
    },
    "language_info": {
      "name": "python"
    }
  },
  "cells": [
    {
      "cell_type": "markdown",
      "metadata": {
        "id": "9jTMprpQUxOE"
      },
      "source": [
        "KMeans Algorithm\n",
        "\n",
        "Step1: Choose k value for ex: k=2\n",
        "\n",
        "Step2: Initialize centroids randomly\n",
        "\n",
        "Step3: Calculate Euclidean distance from centroids to each data point and form clusters that are close to centroids\n",
        "\n",
        "Step4: Update the Cluster Classification for each point\n",
        "\n",
        "Step5: Find the centroid of each cluster and update centroids\n",
        "\n",
        "Step:6 Repeat step3\n"
      ]
    },
    {
      "cell_type": "code",
      "metadata": {
        "id": "I1DPn3FreBqu"
      },
      "source": [
        "# History\n",
        "# Name    Date        Description\n",
        "# -   -   -   -   -   -   -   -   -   -   -   -   -   -   -   \n",
        "# scl    9-24-201     Add code to calculate SSE \n",
        "#                     using the elbow method for k\n",
        "# scl    9-24-2021    Modify accept different values for k \n",
        "# scl    9-25-2021    Add preprocessing for using csv input\n",
        "#                     tested with LifeExpectancyData.csv\n",
        "# -   -   -   -   -   -   -   -   -   -   -   -   -   -   -   "
      ],
      "execution_count": 4,
      "outputs": []
    },
    {
      "cell_type": "code",
      "metadata": {
        "id": "HvxyKVuAUwuJ"
      },
      "source": [
        "import pandas as pd\n",
        "import numpy as np\n",
        "import seaborn as sns\n",
        "import matplotlib.pyplot as plt"
      ],
      "execution_count": 5,
      "outputs": []
    },
    {
      "cell_type": "code",
      "metadata": {
        "id": "3k96JdT2VsIZ",
        "colab": {
          "base_uri": "https://localhost:8080/",
          "height": 204
        },
        "outputId": "7a0264f2-2802-4f56-be01-bd02464462b8"
      },
      "source": [
        "# First: let's prepare the data that we are going to use\n",
        "# this is always necessary when do AI and Machine Learning\n",
        "# it is an important step as data scientists.\n",
        "\n",
        "# eventually use the elbow method for determining the \n",
        "# value of k, but for now lets just set it manually\n",
        "k = 3\n",
        "\n",
        "# either read in a csv file or uncomment the lines below\n",
        "# to randomly generate some test data\n",
        "# -   -   -   -   -   -   -   -   -   -   -   -   -   -   -   \n",
        "# read in the Cause of Death US data file\n",
        "d = pd.read_csv('LifeExpectancyData.csv')\n",
        "d = d.fillna(0)\n",
        "\n",
        "# create filter\n",
        "filter_year = 2011\n",
        "\n",
        "# apply the filter\n",
        "filter_year  = (d['Year'] == filter_year)\n",
        "df_life = d[filter_year]\n",
        "\n",
        "# Pre processing for Life Expectancy Data Set\n",
        "# df_life = pd.read_csv('LifeExpectancyData.csv')\n",
        "\n",
        "# Features are :\n",
        "col_x = df_life['Schooling']\n",
        "col_y = df_life['Alcohol']\n",
        "\n",
        "# Observations :\n",
        "col_Y = df_life['Life expectancy ']\n",
        "\n",
        "# replace X - features and y observations\n",
        "X = np.array([col_x, col_y])\n",
        "X = X.T\n",
        "y = col_Y\n",
        "\n",
        "# if you want to use test data just uncomment\n",
        "# these lines below.  \n",
        "# -- scl\n",
        "# -- NUM_POINTS = 200\n",
        "# -- s = np.random.randint(1,99)\n",
        "# -- np.random.seed(s)\n",
        "# -- X = np.random.randint(1,99, size=(NUM_POINTS,2))\n",
        "# -- y = np.random.randint(1,k+1, size=len(X))\n",
        "# -- y = pd.Series(y)\n",
        "\n",
        "# create the main data frame called data\n",
        "data = pd.DataFrame(X, columns=['x','y'])\n",
        "data['class'] = y.values\n",
        "data.head()"
      ],
      "execution_count": 6,
      "outputs": [
        {
          "output_type": "execute_result",
          "data": {
            "text/html": [
              "\n",
              "  <div id=\"df-33e6db06-1445-4082-8d53-8825b212b8a8\">\n",
              "    <div class=\"colab-df-container\">\n",
              "      <div>\n",
              "<style scoped>\n",
              "    .dataframe tbody tr th:only-of-type {\n",
              "        vertical-align: middle;\n",
              "    }\n",
              "\n",
              "    .dataframe tbody tr th {\n",
              "        vertical-align: top;\n",
              "    }\n",
              "\n",
              "    .dataframe thead th {\n",
              "        text-align: right;\n",
              "    }\n",
              "</style>\n",
              "<table border=\"1\" class=\"dataframe\">\n",
              "  <thead>\n",
              "    <tr style=\"text-align: right;\">\n",
              "      <th></th>\n",
              "      <th>x</th>\n",
              "      <th>y</th>\n",
              "      <th>class</th>\n",
              "    </tr>\n",
              "  </thead>\n",
              "  <tbody>\n",
              "    <tr>\n",
              "      <th>0</th>\n",
              "      <td>9.5</td>\n",
              "      <td>0.01</td>\n",
              "      <td>59.2</td>\n",
              "    </tr>\n",
              "    <tr>\n",
              "      <th>1</th>\n",
              "      <td>13.3</td>\n",
              "      <td>5.37</td>\n",
              "      <td>76.6</td>\n",
              "    </tr>\n",
              "    <tr>\n",
              "      <th>2</th>\n",
              "      <td>14.0</td>\n",
              "      <td>0.56</td>\n",
              "      <td>74.9</td>\n",
              "    </tr>\n",
              "    <tr>\n",
              "      <th>3</th>\n",
              "      <td>9.4</td>\n",
              "      <td>8.06</td>\n",
              "      <td>51.0</td>\n",
              "    </tr>\n",
              "    <tr>\n",
              "      <th>4</th>\n",
              "      <td>14.1</td>\n",
              "      <td>7.84</td>\n",
              "      <td>75.7</td>\n",
              "    </tr>\n",
              "  </tbody>\n",
              "</table>\n",
              "</div>\n",
              "      <button class=\"colab-df-convert\" onclick=\"convertToInteractive('df-33e6db06-1445-4082-8d53-8825b212b8a8')\"\n",
              "              title=\"Convert this dataframe to an interactive table.\"\n",
              "              style=\"display:none;\">\n",
              "        \n",
              "  <svg xmlns=\"http://www.w3.org/2000/svg\" height=\"24px\"viewBox=\"0 0 24 24\"\n",
              "       width=\"24px\">\n",
              "    <path d=\"M0 0h24v24H0V0z\" fill=\"none\"/>\n",
              "    <path d=\"M18.56 5.44l.94 2.06.94-2.06 2.06-.94-2.06-.94-.94-2.06-.94 2.06-2.06.94zm-11 1L8.5 8.5l.94-2.06 2.06-.94-2.06-.94L8.5 2.5l-.94 2.06-2.06.94zm10 10l.94 2.06.94-2.06 2.06-.94-2.06-.94-.94-2.06-.94 2.06-2.06.94z\"/><path d=\"M17.41 7.96l-1.37-1.37c-.4-.4-.92-.59-1.43-.59-.52 0-1.04.2-1.43.59L10.3 9.45l-7.72 7.72c-.78.78-.78 2.05 0 2.83L4 21.41c.39.39.9.59 1.41.59.51 0 1.02-.2 1.41-.59l7.78-7.78 2.81-2.81c.8-.78.8-2.07 0-2.86zM5.41 20L4 18.59l7.72-7.72 1.47 1.35L5.41 20z\"/>\n",
              "  </svg>\n",
              "      </button>\n",
              "      \n",
              "  <style>\n",
              "    .colab-df-container {\n",
              "      display:flex;\n",
              "      flex-wrap:wrap;\n",
              "      gap: 12px;\n",
              "    }\n",
              "\n",
              "    .colab-df-convert {\n",
              "      background-color: #E8F0FE;\n",
              "      border: none;\n",
              "      border-radius: 50%;\n",
              "      cursor: pointer;\n",
              "      display: none;\n",
              "      fill: #1967D2;\n",
              "      height: 32px;\n",
              "      padding: 0 0 0 0;\n",
              "      width: 32px;\n",
              "    }\n",
              "\n",
              "    .colab-df-convert:hover {\n",
              "      background-color: #E2EBFA;\n",
              "      box-shadow: 0px 1px 2px rgba(60, 64, 67, 0.3), 0px 1px 3px 1px rgba(60, 64, 67, 0.15);\n",
              "      fill: #174EA6;\n",
              "    }\n",
              "\n",
              "    [theme=dark] .colab-df-convert {\n",
              "      background-color: #3B4455;\n",
              "      fill: #D2E3FC;\n",
              "    }\n",
              "\n",
              "    [theme=dark] .colab-df-convert:hover {\n",
              "      background-color: #434B5C;\n",
              "      box-shadow: 0px 1px 3px 1px rgba(0, 0, 0, 0.15);\n",
              "      filter: drop-shadow(0px 1px 2px rgba(0, 0, 0, 0.3));\n",
              "      fill: #FFFFFF;\n",
              "    }\n",
              "  </style>\n",
              "\n",
              "      <script>\n",
              "        const buttonEl =\n",
              "          document.querySelector('#df-33e6db06-1445-4082-8d53-8825b212b8a8 button.colab-df-convert');\n",
              "        buttonEl.style.display =\n",
              "          google.colab.kernel.accessAllowed ? 'block' : 'none';\n",
              "\n",
              "        async function convertToInteractive(key) {\n",
              "          const element = document.querySelector('#df-33e6db06-1445-4082-8d53-8825b212b8a8');\n",
              "          const dataTable =\n",
              "            await google.colab.kernel.invokeFunction('convertToInteractive',\n",
              "                                                     [key], {});\n",
              "          if (!dataTable) return;\n",
              "\n",
              "          const docLinkHtml = 'Like what you see? Visit the ' +\n",
              "            '<a target=\"_blank\" href=https://colab.research.google.com/notebooks/data_table.ipynb>data table notebook</a>'\n",
              "            + ' to learn more about interactive tables.';\n",
              "          element.innerHTML = '';\n",
              "          dataTable['output_type'] = 'display_data';\n",
              "          await google.colab.output.renderOutput(dataTable, element);\n",
              "          const docLink = document.createElement('div');\n",
              "          docLink.innerHTML = docLinkHtml;\n",
              "          element.appendChild(docLink);\n",
              "        }\n",
              "      </script>\n",
              "    </div>\n",
              "  </div>\n",
              "  "
            ],
            "text/plain": [
              "      x     y  class\n",
              "0   9.5  0.01   59.2\n",
              "1  13.3  5.37   76.6\n",
              "2  14.0  0.56   74.9\n",
              "3   9.4  8.06   51.0\n",
              "4  14.1  7.84   75.7"
            ]
          },
          "metadata": {},
          "execution_count": 6
        }
      ]
    },
    {
      "cell_type": "code",
      "metadata": {
        "colab": {
          "base_uri": "https://localhost:8080/",
          "height": 296
        },
        "id": "jwUlrVP1ZW3w",
        "outputId": "a887dc25-6929-44cf-bce4-07b34e0dd94b"
      },
      "source": [
        "plt.figure(figsize=(10,4))\n",
        "sns.scatterplot(data=data, x='x', y='y')"
      ],
      "execution_count": 7,
      "outputs": [
        {
          "output_type": "execute_result",
          "data": {
            "text/plain": [
              "<matplotlib.axes._subplots.AxesSubplot at 0x7f11d01aecd0>"
            ]
          },
          "metadata": {},
          "execution_count": 7
        },
        {
          "output_type": "display_data",
          "data": {
            "image/png": "[encoded data removed]",
            "text/plain": [
              "<Figure size 720x288 with 1 Axes>"
            ]
          },
          "metadata": {
            "needs_background": "light"
          }
        }
      ]
    },
    {
      "cell_type": "code",
      "metadata": {
        "id": "JX0owp5nWY-A"
      },
      "source": [
        "def calcDistance(data, p1):\n",
        "  d = []\n",
        "  for i in range(len(data)):\n",
        "    x1 = data.iloc[i].x\n",
        "    y1 = data.iloc[i].y\n",
        "    p2 = np.array((x1,y1))\n",
        "    #d = np.linalg.norm(p1 - p2)\n",
        "    dx = np.sqrt(np.sum(np.square(p1 - p2)))\n",
        "    d.append(dx)\n",
        "  return d\n",
        "\n",
        "def classifyKMeans(df, kmeans):\n",
        "  res = []\n",
        "\n",
        "  # slice and get only the columns with distances\n",
        "  df_dist = df[df.columns[-kmeans:]]  \n",
        "  \n",
        "  # loop through the points and \n",
        "  # check the closest distances to classify \n",
        "  # which cluster the point belongs to for each iteration\n",
        "  for row in df_dist.iloc:\n",
        "    closest = row.min()\n",
        "    cluster = row.idxmin()\n",
        "    res.append(cluster)\n",
        "  df['class'] = res\n",
        "  return df\n",
        "\n",
        "# -- scl \n",
        "# depricate this function for the one\n",
        "# above, after testing you can remove\n",
        "def classifyKMeansUP(df):\n",
        "  res = []\n",
        "  for row in df.iloc:\n",
        "    if row.dist1 < row.dist2:\n",
        "      res.append(1)\n",
        "    else:\n",
        "      res.append(2)\n",
        "  df['class'] = res\n",
        "  return df\n",
        "\n",
        "# -- scl \n",
        "# stop here for now\n",
        "# need to fix how to calculate the\n",
        "# new centriods after the points are\n",
        "# classified to a cluster\n",
        "#  How do you now cla\n",
        "def calcCentroid(df):\n",
        "  c = df.groupby(['class'])\n",
        "  c = c.mean().round(2)\n",
        "  return c\n"
      ],
      "execution_count": 8,
      "outputs": []
    },
    {
      "cell_type": "code",
      "metadata": {
        "colab": {
          "base_uri": "https://localhost:8080/"
        },
        "id": "59LiGJ0RXFCu",
        "outputId": "75e6a693-a9ec-4e62-e057-4316da501e64"
      },
      "source": [
        "# create the list of centroids base on the value of k\n",
        "# to represent the number of clusters to try and\n",
        "# detect with this data set.\n",
        "centroids = [0 for x in range(k)]\n",
        "centroids = calcCentroid(data)\n",
        "\n",
        "iter = 3\n",
        "i = 1\n",
        "for iter in range(iter):\n",
        "  for i in range (len(centroids)):\n",
        "    center_point = np.array([(centroids.iloc[i].x, centroids.iloc[i].y)])\n",
        "    dist = calcDistance(data, center_point)\n",
        "    data['dist'+str(i)] = dist\n",
        "    i += 1\n",
        "  i = 1\n",
        "\n",
        "  # classify the points\n",
        "  data = classifyKMeans(data, k)\n",
        "\n",
        "  # calculate new centriods\n",
        "  new_centroids = calcCentroid(data)\n",
        "  centroids = new_centroids\n",
        "\n",
        "  print('\\n- - - - - - - - - - - - - - - - - - - - - - \\n')\n",
        "  print('             ITERATION = ', iter)\n",
        "  print('\\n- - - - - - - - - - - - - - - - - - - - - - \\n')\n",
        "\n",
        "  print(centroids)\n",
        "  print('\\n- - - - - - - - - - - - - - - - - - - - - - \\n')\n"
      ],
      "execution_count": 9,
      "outputs": [
        {
          "output_type": "stream",
          "name": "stderr",
          "text": [
            "/usr/local/lib/python3.7/dist-packages/ipykernel_launcher.py:13: PerformanceWarning: DataFrame is highly fragmented.  This is usually the result of calling `frame.insert` many times, which has poor performance.  Consider joining all columns at once using pd.concat(axis=1) instead.  To get a de-fragmented frame, use `newframe = frame.copy()`\n",
            "  del sys.path[0]\n"
          ]
        },
        {
          "output_type": "stream",
          "name": "stdout",
          "text": [
            "\n",
            "- - - - - - - - - - - - - - - - - - - - - - \n",
            "\n",
            "             ITERATION =  0\n",
            "\n",
            "- - - - - - - - - - - - - - - - - - - - - - \n",
            "\n",
            "             x      y  dist0  dist1  ...  dist118  dist119  dist120  dist121\n",
            "class                                ...                                    \n",
            "dist119   6.15   5.50   5.65   6.05  ...    11.84     7.19     9.46    11.20\n",
            "dist120  12.67   3.30   4.86   6.55  ...     7.72     7.92     4.92     8.97\n",
            "dist121  15.78  11.02  10.11  13.07  ...     2.47     6.17     4.59     2.24\n",
            "\n",
            "[3 rows x 124 columns]\n",
            "\n",
            "- - - - - - - - - - - - - - - - - - - - - - \n",
            "\n",
            "\n",
            "- - - - - - - - - - - - - - - - - - - - - - \n",
            "\n",
            "             ITERATION =  1\n",
            "\n",
            "- - - - - - - - - - - - - - - - - - - - - - \n",
            "\n",
            "             x      y  dist0  dist1  ...  dist118  dist119  dist120  dist121\n",
            "class                                ...                                    \n",
            "dist119   6.15   5.50   5.42   8.08  ...    11.84     7.19     9.46    11.20\n",
            "dist120  12.67   3.30   7.55   3.23  ...     7.72     7.92     4.92     8.97\n",
            "dist121  15.78  11.02  11.20   8.50  ...     2.47     6.17     4.59     2.24\n",
            "\n",
            "[3 rows x 124 columns]\n",
            "\n",
            "- - - - - - - - - - - - - - - - - - - - - - \n",
            "\n",
            "\n",
            "- - - - - - - - - - - - - - - - - - - - - - \n",
            "\n",
            "             ITERATION =  2\n",
            "\n",
            "- - - - - - - - - - - - - - - - - - - - - - \n",
            "\n",
            "             x      y  dist0  dist1  ...  dist118  dist119  dist120  dist121\n",
            "class                                ...                                    \n",
            "dist119   6.15   5.50   5.42   8.08  ...    11.84     7.19     9.46    11.20\n",
            "dist120  12.67   3.30   7.55   3.23  ...     7.72     7.92     4.92     8.97\n",
            "dist121  15.78  11.02  11.20   8.50  ...     2.47     6.17     4.59     2.24\n",
            "\n",
            "[3 rows x 124 columns]\n",
            "\n",
            "- - - - - - - - - - - - - - - - - - - - - - \n",
            "\n"
          ]
        }
      ]
    },
    {
      "cell_type": "code",
      "metadata": {
        "colab": {
          "base_uri": "https://localhost:8080/",
          "height": 296
        },
        "id": "mM5I-xnpBgne",
        "outputId": "dd5f12c5-26c3-4543-febf-ab1a6be3617f"
      },
      "source": [
        "plt.figure(figsize=(10,4))\n",
        "sns.scatterplot(data=data, x=data.x, y=data.y, size='class', sizes=(10,100), hue='class', legend=False)"
      ],
      "execution_count": 10,
      "outputs": [
        {
          "output_type": "execute_result",
          "data": {
            "text/plain": [
              "<matplotlib.axes._subplots.AxesSubplot at 0x7f11cf7d6910>"
            ]
          },
          "metadata": {},
          "execution_count": 10
        },
        {
          "output_type": "display_data",
          "data": {
            "image/png": "[encoded data removed]",
            "text/plain": [
              "<Figure size 720x288 with 1 Axes>"
            ]
          },
          "metadata": {
            "needs_background": "light"
          }
        }
      ]
    }
  ]
}