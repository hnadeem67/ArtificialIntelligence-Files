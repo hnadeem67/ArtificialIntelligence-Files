{
  "nbformat": 4,
  "nbformat_minor": 0,
  "metadata": {
    "colab": {
      "name": "simpleStats (1).ipynb",
      "provenance": [],
      "collapsed_sections": []
    },
    "kernelspec": {
      "name": "python3",
      "display_name": "Python 3"
    },
    "language_info": {
      "name": "python"
    }
  },
  "cells": [
    {
      "cell_type": "code",
      "execution_count": 145,
      "metadata": {
        "id": "VUz3qWAhg58Z"
      },
      "outputs": [],
      "source": [
        "# Description:  Calculate some simple stats using Python\n",
        "#               - Mean (sample and population)\n",
        "#               - Calculate the Adjusted Mean \n",
        "#               - Standard Deviation\n",
        "#               - Variance\n",
        "#               - CoVariance Matrix\n",
        "#\n",
        "# Author: Dr. Steven C. Lindo\n",
        "# Date: 1/27/2022\n",
        "#\n",
        "# -    -    -    -    -    -    -    -    -    -    -    -    -    \n",
        "# Revision History\n",
        "# Name      Date        Description\n",
        "# scl      1/27/2022    Intial Code added function for sample\n",
        "#                       and population mean calculations.\n",
        "# scl      2/1/2022     Add function for Standard Deviation\n",
        "# scl      2/2/2022     Add function for Variance\n",
        "# scl      2/3/2022     Add function for Create the CoVariance Matrix\n",
        "#\n",
        "# -    -    -    -    -    -    -    -    -    -    -    -    -    \n"
      ]
    },
    {
      "cell_type": "code",
      "source": [
        "import matplotlib.pyplot as plt\n",
        "import seaborn as sns\n",
        "import pandas as pd \n",
        "import numpy as np"
      ],
      "metadata": {
        "id": "btZdrPo2hsPB"
      },
      "execution_count": 146,
      "outputs": []
    },
    {
      "cell_type": "code",
      "source": [
        "# Functions are in this section of the Code\n",
        "# Table of Contents\n",
        "#   o  f_calcMean\n",
        "#   o  f_calcAdjMean\n",
        "#   o  f_calcSTD\n",
        "#   o  f_calcVAR\n",
        "#   o  f_calcCOVAR\n",
        "#   o  f_errorResidual\n",
        "#   o  f_computeBeta\n",
        "#   o  predictY\n",
        "#\n",
        "# -    -    -    -    -    -    -    -    -    -    -    -    -    \n",
        "def f_calcSTD(p1, mu):\n",
        "    N = len(p1)\n",
        "    v = 0\n",
        "    for n in p1:\n",
        "        v += ((n-mu)**2)\n",
        "    pop_variance = v/N\n",
        "    sigma = np.sqrt(pop_variance)\n",
        "\n",
        "    return sigma\n",
        "\n",
        "def f_calcVAR(p1, p2):\n",
        "  variance = f_calcSTD(p1,p2)**2\n",
        "  return variance\n",
        "\n",
        "def f_calcCOVAR(p1, p2):\n",
        "  d = np.array([zip(p1,p2)])\n",
        "  covMatrix = np.cov(d,bias=False)\n",
        "  return covMatrix\n",
        "\n",
        "def f_errorResidual(test_y, predicted_y):\n",
        "  residual = test_y - predicted_y\n",
        "  return residual \n",
        "  \n",
        "# f_calcMean takes in two parameters, p1 is a list and \n",
        "# p2 is a string 'sam' = sample mean, 'pop' = population mean\n",
        "# the function return either the sample or population mean \n",
        "# if there is a problem with p2, it will return -99999.\n",
        "# -    -    -    -    -    -    -    -    -    -    -    -    -    \n",
        "def f_calcMean(p1, p2):\n",
        "  # init the results\n",
        "  result = -99999\n",
        "  if p2 == 'pop':\n",
        "    result = p1.sum() / len(p1)\n",
        "  elif p2 == 'sam':\n",
        "    result = p1.sum() / (len(p1) - 1)\n",
        "  return result\n",
        "\n",
        "# -    -    -    -    -    -    -    -    -    -    -    -    -    \n",
        "# f_calcAdjMean takes in two parameters, p1 is a list and\n",
        "# p2 is a string 'sam' = sample mean, 'pop' = population mean\n",
        "# this function will call f_calcMean and use that to subtract\n",
        "# the mean from both x and y values in the p1\n",
        "# -    -    -    -    -    -    -    -    -    -    -    -    -    \n",
        "def f_calcAdjMean(p1, p2):\n",
        "  # init the results\n",
        "  result = -99999\n",
        "  m = f_calcMean(p1,p2)\n",
        "  result = (p1 - m)\n",
        "  result = result.rename(str.upper, axis='columns')\n",
        "  return result, m\n",
        "\n",
        "# -    -    -    -    -    -    -    -    -    -    -    -    -    \n",
        "# f_computeBeta adjusted mean from both x and y and compute\n",
        "# beta cofficients for the regression line.  Where the formula\n",
        "# is written as: y = b0 + b1*x, \n",
        "#   where, b0=y-intercept, b1=slope, \n",
        "# -    -    -    -    -    -    -    -    -    -    -    -    -    \n",
        "def f_computeBeta(adjusted_x, adjusted_y, mean_x, mean_y):\n",
        "  b1 = sum((adjusted_x)*(adjusted_y)) / sum((adjusted_x)**2)\n",
        "  b0 = mean_y - b1*mean_x\n",
        "  print('b0 = ', b0)\n",
        "  print('b1 = ', b1)\n",
        "  return b0, b1\n",
        "\n",
        "# -    -    -    -    -    -    -    -    -    -    -    -    -    \n",
        "# f_calcAdjMean takes in two parameters, p1 is a list and\n",
        "# Given that the formula is written as: y = b0 + b1*x, \n",
        "# approximate y (or predict) the values of y \n",
        "# the mean from both x and y values in the p1\n",
        "# -    -    -    -    -    -    -    -    -    -    -    -    -    \n",
        "def predictY(b0, b1, x):\n",
        "  predict_y = []\n",
        "  for num in x:\n",
        "    predict_y.append(b0 + (b1*num))\n",
        "  return predict_y"
      ],
      "metadata": {
        "id": "45f6v-xSiuW3"
      },
      "execution_count": 147,
      "outputs": []
    },
    {
      "cell_type": "code",
      "source": [
        "# -    -    -    -    -    -    -    -    -    -    -    -    -    \n",
        "# main() is a special function that allows us to instrument the \n",
        "# other functions to produce the desired results.\n",
        "def main(r,c,num):\n",
        "\n",
        "  data = np.random.randint(range,size=(r, c))\n",
        "  data = pd.DataFrame(data, columns=['x','y'])\n",
        "\n",
        "  res, mean  = f_calcAdjMean(data,'pop')\n",
        "  res  = pd.concat([data, res],axis=1)\n",
        "\n",
        "  beta0, beta1 = f_computeBeta(res['X'], res['Y'], mean[0], mean[1])\n",
        "  y_pred = predictY(beta0, beta1, data['x'])\n",
        "  \n",
        "  # compute the standard deviation of x and y\n",
        "  v = f_calcSTD(data['x'], mean[0])\n",
        "  print('Standard Deviation of x = ', v)\n",
        "  v = f_calcSTD(data['y'], mean[1])\n",
        "  print('Standard Deviation of y = ', v)\n",
        "\n",
        "  # compute the variance of of x and y\n",
        "  v = f_calcVAR(data['x'], mean[0])\n",
        "  print('Variance of x = ', v)\n",
        "  v = f_calcVAR(data['y'], mean[1])\n",
        "  print('Variance of y = ', v)\n",
        "\n",
        "  # compute the residual error from the predicted y \n",
        "  err = f_errorResidual(data['y'], y_pred)\n",
        "  print('Residual = ', err)\n",
        "\n",
        "  print('\\n\\n-- End --')\n",
        "  status = 'success' # later make a try catch for this variable\n",
        "  return data, res, y_pred, status"
      ],
      "metadata": {
        "id": "5vl98M-slFuS"
      },
      "execution_count": 148,
      "outputs": []
    },
    {
      "cell_type": "code",
      "source": [
        "# Global Variables\n",
        "rows  = 20\n",
        "cols  = 2\n",
        "range = 10\n",
        "\n",
        "# Call main() here.  This should be the last line in your code.\n",
        "d,r,p,s = main(rows, cols, range)\n",
        "print('\\n',r)\n"
      ],
      "metadata": {
        "id": "jBL6m4ennF10",
        "colab": {
          "base_uri": "https://localhost:8080/"
        },
        "outputId": "73088e23-9da9-4d5d-b44e-ff6ef8f24a3c"
      },
      "execution_count": 149,
      "outputs": [
        {
          "output_type": "stream",
          "name": "stdout",
          "text": [
            "b0 =  3.822742474916388\n",
            "b1 =  0.06354515050167231\n",
            "Standard Deviation of x =  2.5937424698685874\n",
            "Standard Deviation of y =  2.971110903349116\n",
            "Variance of x =  6.7275\n",
            "Variance of y =  8.827499999999999\n",
            "Residual =  0    -4.394649\n",
            "1    -2.949833\n",
            "2    -4.267559\n",
            "3     1.050167\n",
            "4    -3.076923\n",
            "5    -0.267559\n",
            "6    -4.267559\n",
            "7     1.605351\n",
            "8     3.859532\n",
            "9    -1.949833\n",
            "10   -0.013378\n",
            "11    2.605351\n",
            "12    3.050167\n",
            "13    2.795987\n",
            "14   -2.013378\n",
            "15    0.605351\n",
            "16    4.986622\n",
            "17    4.732441\n",
            "18   -0.076923\n",
            "19   -2.013378\n",
            "Name: y, dtype: float64\n",
            "\n",
            "\n",
            "End --\n",
            "\n",
            "     x  y     X     Y\n",
            "0   9  0  3.85 -4.15\n",
            "1   2  1 -3.15 -3.15\n",
            "2   7  0  1.85 -4.15\n",
            "3   2  5 -3.15  0.85\n",
            "4   4  1 -1.15 -3.15\n",
            "5   7  4  1.85 -0.15\n",
            "6   7  0  1.85 -4.15\n",
            "7   9  6  3.85  1.85\n",
            "8   5  8 -0.15  3.85\n",
            "9   2  2 -3.15 -2.15\n",
            "10  3  4 -2.15 -0.15\n",
            "11  9  7  3.85  2.85\n",
            "12  2  7 -3.15  2.85\n",
            "13  6  7  0.85  2.85\n",
            "14  3  2 -2.15 -2.15\n",
            "15  9  5  3.85  0.85\n",
            "16  3  9 -2.15  4.85\n",
            "17  7  9  1.85  4.85\n",
            "18  4  4 -1.15 -0.15\n",
            "19  3  2 -2.15 -2.15\n"
          ]
        }
      ]
    },
    {
      "cell_type": "code",
      "source": [
        "sns.set(style='whitegrid',context='notebook')\n",
        "sns.lineplot(data=r, x='x', y='y')\n",
        "sns.lineplot(data=r, x='x', y=p)\n",
        "plt.title('Original Data')\n",
        "plt.show()\n",
        "\n",
        "sns.lineplot(data=r, x='X', y='Y')\n",
        "plt.title('Adjusted Mean Data')\n",
        "plt.show()\n"
      ],
      "metadata": {
        "colab": {
          "base_uri": "https://localhost:8080/",
          "height": 585
        },
        "id": "Sla8MsZSuX_I",
        "outputId": "39b09531-993b-499b-8e63-afbba4d38a32"
      },
      "execution_count": 150,
      "outputs": [
        {
          "output_type": "display_data",
          "data": {
            "image/png": "[encoded data removed]",
            "text/plain": [
              "<Figure size 432x288 with 1 Axes>"
            ]
          },
          "metadata": {}
        },
        {
          "output_type": "display_data",
          "data": {
            "image/png": "[encoded data removed]",
            "text/plain": [
              "<Figure size 432x288 with 1 Axes>"
            ]
          },
          "metadata": {}
        }
      ]
    },
    {
      "cell_type": "code",
      "source": [
        ""
      ],
      "metadata": {
        "id": "8Mm8pX7ux0jt"
      },
      "execution_count": 150,
      "outputs": []
    }
  ]
}