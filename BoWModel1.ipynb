{
  "nbformat": 4,
  "nbformat_minor": 0,
  "metadata": {
    "colab": {
      "name": "BoWModel1.ipynb",
      "provenance": []
    },
    "kernelspec": {
      "name": "python3",
      "display_name": "Python 3"
    },
    "language_info": {
      "name": "python"
    }
  },
  "cells": [
    {
      "cell_type": "code",
      "metadata": {
        "id": "f4tsz3OoqZQI"
      },
      "source": [
        "import numpy as np\n",
        "import pandas as pd\n"
      ],
      "execution_count": null,
      "outputs": []
    },
    {
      "cell_type": "code",
      "metadata": {
        "id": "1_MOV4-oqSz9"
      },
      "source": [
        "s1 = \"The sun is shining \"\n",
        "s2 = \"The weather is sweet \"\n",
        "s3 = \"The sun is shining and the weather is sweet \""
      ],
      "execution_count": null,
      "outputs": []
    },
    {
      "cell_type": "code",
      "metadata": {
        "id": "kmmFqBKOr4YV"
      },
      "source": [
        "def calcTermFreq(content):\n",
        "  df_bow = pd.DataFrame()\n",
        "  tokens = content.split()\n",
        "  vocab = set(tokens)\n",
        "\n",
        "  # Add logic here to calculate the term frequency\n",
        "  for w in vocab:\n",
        "    tf = 0\n",
        "    for t in tokens:\n",
        "      if w == t:\n",
        "        tf += 1\n",
        "    df_bow[w] = [tf]\n",
        "  return df_bow"
      ],
      "execution_count": null,
      "outputs": []
    },
    {
      "cell_type": "code",
      "metadata": {
        "colab": {
          "base_uri": "https://localhost:8080/",
          "height": 143
        },
        "id": "C1MTHuUiqtWE",
        "outputId": "b27961d3-bc17-496a-a670-528f07aef1d1"
      },
      "source": [
        "corpus = s1 + s2 + s3\n",
        "bagofwords = pd.DataFrame()\n",
        "df_1 = calcTermFreq(s1)\n",
        "df_2 = calcTermFreq(s2)\n",
        "df_3 = calcTermFreq(s3)\n",
        "\n",
        "frames = [df_1,df_2,df_3]\n",
        "r = pd.concat(frames)\n",
        "r\n",
        "#    is   sun   weather     ..... \n",
        "# s1 1    1     0\n",
        "# s2 1    0     1\n",
        "# s3 2    1     1\n"
      ],
      "execution_count": null,
      "outputs": [
        {
          "output_type": "execute_result",
          "data": {
            "text/html": [
              "<div>\n",
              "<style scoped>\n",
              "    .dataframe tbody tr th:only-of-type {\n",
              "        vertical-align: middle;\n",
              "    }\n",
              "\n",
              "    .dataframe tbody tr th {\n",
              "        vertical-align: top;\n",
              "    }\n",
              "\n",
              "    .dataframe thead th {\n",
              "        text-align: right;\n",
              "    }\n",
              "</style>\n",
              "<table border=\"1\" class=\"dataframe\">\n",
              "  <thead>\n",
              "    <tr style=\"text-align: right;\">\n",
              "      <th></th>\n",
              "      <th>shining</th>\n",
              "      <th>The</th>\n",
              "      <th>is</th>\n",
              "      <th>sun</th>\n",
              "      <th>weather</th>\n",
              "      <th>sweet</th>\n",
              "      <th>the</th>\n",
              "      <th>and</th>\n",
              "    </tr>\n",
              "  </thead>\n",
              "  <tbody>\n",
              "    <tr>\n",
              "      <th>0</th>\n",
              "      <td>1.0</td>\n",
              "      <td>1</td>\n",
              "      <td>1</td>\n",
              "      <td>1.0</td>\n",
              "      <td>NaN</td>\n",
              "      <td>NaN</td>\n",
              "      <td>NaN</td>\n",
              "      <td>NaN</td>\n",
              "    </tr>\n",
              "    <tr>\n",
              "      <th>0</th>\n",
              "      <td>NaN</td>\n",
              "      <td>1</td>\n",
              "      <td>1</td>\n",
              "      <td>NaN</td>\n",
              "      <td>1.0</td>\n",
              "      <td>1.0</td>\n",
              "      <td>NaN</td>\n",
              "      <td>NaN</td>\n",
              "    </tr>\n",
              "    <tr>\n",
              "      <th>0</th>\n",
              "      <td>1.0</td>\n",
              "      <td>1</td>\n",
              "      <td>2</td>\n",
              "      <td>1.0</td>\n",
              "      <td>1.0</td>\n",
              "      <td>1.0</td>\n",
              "      <td>1.0</td>\n",
              "      <td>1.0</td>\n",
              "    </tr>\n",
              "  </tbody>\n",
              "</table>\n",
              "</div>"
            ],
            "text/plain": [
              "   shining  The  is  sun  weather  sweet  the  and\n",
              "0      1.0    1   1  1.0      NaN    NaN  NaN  NaN\n",
              "0      NaN    1   1  NaN      1.0    1.0  NaN  NaN\n",
              "0      1.0    1   2  1.0      1.0    1.0  1.0  1.0"
            ]
          },
          "metadata": {},
          "execution_count": 82
        }
      ]
    }
  ]
}