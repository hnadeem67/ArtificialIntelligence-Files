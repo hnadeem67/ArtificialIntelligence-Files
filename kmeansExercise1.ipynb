{
  "nbformat": 4,
  "nbformat_minor": 0,
  "metadata": {
    "colab": {
      "name": "kmeansExercise1.ipynb",
      "provenance": [],
      "collapsed_sections": []
    },
    "kernelspec": {
      "name": "python3",
      "display_name": "Python 3"
    },
    "language_info": {
      "name": "python"
    }
  },
  "cells": [
    {
      "cell_type": "code",
      "execution_count": 8,
      "metadata": {
        "id": "RNOJElfmKeld"
      },
      "outputs": [],
      "source": [
        "# Simple k-means algorithm\n",
        "# Author : Dr. Steven C. Lindo\n",
        "# Date   : 2/11/2022\n",
        "#\n",
        "# Function 1 : f_calcDistance()\n",
        "# Function 2 : f_classifyClusters()\n",
        "#"
      ]
    },
    {
      "cell_type": "code",
      "source": [
        "import pandas as pd\n",
        "import numpy as np\n",
        "import seaborn as sns\n",
        "import matplotlib.pyplot as plt"
      ],
      "metadata": {
        "id": "t1Dh4Ft5Kvaw"
      },
      "execution_count": 9,
      "outputs": []
    },
    {
      "cell_type": "code",
      "source": [
        "def main():\n",
        "  s = 0\n",
        "\n",
        "  # get the data\n",
        "  # X - rep Features \n",
        "  # y - rep the observed values\n",
        "  X = getData()\n",
        "\n",
        "  # 0. initialize variables\n",
        "  center1 = -1\n",
        "  center2 = -2\n",
        "  old_center1 = 0\n",
        "  old_center2 = 0\n",
        "\n",
        "  # 1. choose a value for K\n",
        "  k = 2\n",
        "\n",
        "  while (old_center1 != center1) and (old_center2 != center2)\n",
        "    # 2. initialize centroids\n",
        "    center1, center2 = getCentroids(X)\n",
        "\n",
        "    # 3. calc distance \n",
        "    distance1 = calcDistance(center1, X)\n",
        "    distance2 = calcDistance(center2, X)\n",
        "\n",
        "    # 4. assign to a cluster\n",
        "    cluster1, cluster2 = assignClusters()\n",
        "\n",
        "    # 5. update the centriod \n",
        "    old_center1 = center1\n",
        "    old_center2 = center2\n",
        "    center1, center2 = getCentroids(X)\n",
        "\n",
        "    # 6. repeat step 3 to 6, until \n",
        "    #     old centroid = new centriod\n",
        "\n",
        "  return s"
      ],
      "metadata": {
        "id": "RE2uxRgsLOFY"
      },
      "execution_count": 10,
      "outputs": []
    },
    {
      "cell_type": "code",
      "source": [
        "# run the code by running main\n",
        "status = main()"
      ],
      "metadata": {
        "id": "INd9scphLdta"
      },
      "execution_count": 12,
      "outputs": []
    }
  ]
}