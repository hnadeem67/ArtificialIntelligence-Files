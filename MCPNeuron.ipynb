{
  "nbformat": 4,
  "nbformat_minor": 0,
  "metadata": {
    "colab": {
      "name": "MCPNeuron.ipynb",
      "provenance": []
    },
    "kernelspec": {
      "name": "python3",
      "display_name": "Python 3"
    },
    "language_info": {
      "name": "python"
    }
  },
  "cells": [
    {
      "cell_type": "code",
      "metadata": {
        "id": "oQuLoVnMngSB"
      },
      "source": [
        "# Dr. Steven C. Lindo\n",
        "# Assignment 2 - MCP Neuron \n",
        "# Oct 2021\n",
        "# -    -    -    -    -    -     \n",
        "import numpy as np\n",
        "import pandas as pd"
      ],
      "execution_count": null,
      "outputs": []
    },
    {
      "cell_type": "code",
      "metadata": {
        "id": "TP_0bFkdXpPS"
      },
      "source": [
        "ITERATIONS = 25\n",
        "SAMPLE = 20"
      ],
      "execution_count": null,
      "outputs": []
    },
    {
      "cell_type": "code",
      "metadata": {
        "id": "fZLv4KsPnz0_",
        "colab": {
          "base_uri": "https://localhost:8080/"
        },
        "outputId": "7245a6db-e127-4594-f5ae-cfcdf28bb8fd"
      },
      "source": [
        "X = np.array([[0,1,0], [0,0,1], [1,1,0], [1,0,1]])\n",
        "y = np.array([[0],[0],[1],[1]])\n",
        "\n",
        "# Need the shape m x n\n",
        "s = X.shape\n",
        "m = s[0]\n",
        "n = s[1]\n",
        "\n",
        "w = np.random.randn(n,1)\n",
        "p = np.zeros((len(X),1))\n",
        "\n",
        "print(X.shape)\n",
        "print(y.shape)"
      ],
      "execution_count": null,
      "outputs": [
        {
          "output_type": "stream",
          "name": "stdout",
          "text": [
            "(4, 3)\n",
            "(4, 1)\n"
          ]
        }
      ]
    },
    {
      "cell_type": "code",
      "metadata": {
        "id": "cRWCIbiLt5a7",
        "colab": {
          "base_uri": "https://localhost:8080/",
          "height": 143
        },
        "outputId": "a392b779-2e70-4599-e418-3382b284ea4a"
      },
      "source": [
        "df_w = pd.DataFrame(w)\n",
        "df_p = pd.DataFrame(p)\n",
        "df_w"
      ],
      "execution_count": null,
      "outputs": [
        {
          "output_type": "execute_result",
          "data": {
            "text/html": [
              "<div>\n",
              "<style scoped>\n",
              "    .dataframe tbody tr th:only-of-type {\n",
              "        vertical-align: middle;\n",
              "    }\n",
              "\n",
              "    .dataframe tbody tr th {\n",
              "        vertical-align: top;\n",
              "    }\n",
              "\n",
              "    .dataframe thead th {\n",
              "        text-align: right;\n",
              "    }\n",
              "</style>\n",
              "<table border=\"1\" class=\"dataframe\">\n",
              "  <thead>\n",
              "    <tr style=\"text-align: right;\">\n",
              "      <th></th>\n",
              "      <th>0</th>\n",
              "    </tr>\n",
              "  </thead>\n",
              "  <tbody>\n",
              "    <tr>\n",
              "      <th>0</th>\n",
              "      <td>0.965617</td>\n",
              "    </tr>\n",
              "    <tr>\n",
              "      <th>1</th>\n",
              "      <td>-0.177240</td>\n",
              "    </tr>\n",
              "    <tr>\n",
              "      <th>2</th>\n",
              "      <td>-0.041288</td>\n",
              "    </tr>\n",
              "  </tbody>\n",
              "</table>\n",
              "</div>"
            ],
            "text/plain": [
              "          0\n",
              "0  0.965617\n",
              "1 -0.177240\n",
              "2 -0.041288"
            ]
          },
          "metadata": {},
          "execution_count": 2000
        }
      ]
    },
    {
      "cell_type": "code",
      "metadata": {
        "id": "KYp6LXhVotNI"
      },
      "source": [
        "def sigmoid(x):\n",
        "  ans = (1/(1+np.e**(-x)))\n",
        "  return ans\n",
        "\n",
        "def derivative_sigmoid(x):\n",
        "  ans = sigmoid(x) * (1 - sigmoid(x))\n",
        "  return ans"
      ],
      "execution_count": null,
      "outputs": []
    },
    {
      "cell_type": "code",
      "metadata": {
        "colab": {
          "base_uri": "https://localhost:8080/"
        },
        "id": "sMYPzZ4ZqnkA",
        "outputId": "c09a4e64-5a2a-41df-a512-60a0ed083e7b"
      },
      "source": [
        "iter = ITERATIONS\n",
        "for i in range(iter):\n",
        "  # compute the dot product based on the weight = net\n",
        "  net = np.dot(X,w).round(3)\n",
        "\n",
        "  prob = []\n",
        "  for num in net:\n",
        "    prob.append(sigmoid(num))\n",
        "    prob_update = np.array(prob)\n",
        "\n",
        "  df_p[i+1] = prob_update\n",
        "  err = y - prob_update\n",
        "\n",
        "  w_err = []\n",
        "  for num in err:\n",
        "    w_err.append(derivative_sigmoid(num))\n",
        "  \n",
        "  delta = err * w_err\n",
        "  update_weights = np.dot(X.T, delta)\n",
        "  df_w[i+1] = update_weights\n",
        "  w = update_weights\n",
        "\n",
        "print(df_w)"
      ],
      "execution_count": null,
      "outputs": [
        {
          "output_type": "stream",
          "name": "stdout",
          "text": [
            "         0         1         2   ...        23        24        25\n",
            "0  0.965617  0.145892  0.223866  ...  0.213630  0.213736  0.213630\n",
            "1 -0.177240 -0.031973 -0.004281  ... -0.010171 -0.010118 -0.010171\n",
            "2 -0.041288 -0.045759 -0.002820  ... -0.010171 -0.010118 -0.010171\n",
            "\n",
            "[3 rows x 26 columns]\n"
          ]
        }
      ]
    },
    {
      "cell_type": "code",
      "metadata": {
        "colab": {
          "base_uri": "https://localhost:8080/",
          "height": 282
        },
        "id": "bByPQEw1qDj-",
        "outputId": "83302deb-a296-425c-e763-e4e97f87efd9"
      },
      "source": [
        "import seaborn as sns\n",
        "import matplotlib.pyplot as plt\n",
        "plt.figure(figsize=(12,4))\n",
        "sns.lineplot(data=df_w.iloc[0])\n",
        "sns.lineplot(data=df_w.iloc[1])\n",
        "sns.lineplot(data=df_w.iloc[2])\n"
      ],
      "execution_count": null,
      "outputs": [
        {
          "output_type": "execute_result",
          "data": {
            "text/plain": [
              "<matplotlib.axes._subplots.AxesSubplot at 0x7f018e2a2290>"
            ]
          },
          "metadata": {},
          "execution_count": 2003
        },
        {
          "output_type": "display_data",
          "data": {
            "image/png": "[encoded data removed]",
            "text/plain": [
              "<Figure size 864x288 with 1 Axes>"
            ]
          },
          "metadata": {
            "needs_background": "light"
          }
        }
      ]
    },
    {
      "cell_type": "code",
      "metadata": {
        "colab": {
          "base_uri": "https://localhost:8080/",
          "height": 206
        },
        "id": "lxccox7jAXLS",
        "outputId": "84d94485-6fed-42ef-f405-5f4afcca4092"
      },
      "source": [
        "# read in the iris data set and pre-process \n",
        "df_iris = pd.read_csv('irisdata.csv')\n",
        "df_iris.head()"
      ],
      "execution_count": null,
      "outputs": [
        {
          "output_type": "execute_result",
          "data": {
            "text/html": [
              "<div>\n",
              "<style scoped>\n",
              "    .dataframe tbody tr th:only-of-type {\n",
              "        vertical-align: middle;\n",
              "    }\n",
              "\n",
              "    .dataframe tbody tr th {\n",
              "        vertical-align: top;\n",
              "    }\n",
              "\n",
              "    .dataframe thead th {\n",
              "        text-align: right;\n",
              "    }\n",
              "</style>\n",
              "<table border=\"1\" class=\"dataframe\">\n",
              "  <thead>\n",
              "    <tr style=\"text-align: right;\">\n",
              "      <th></th>\n",
              "      <th>s_length</th>\n",
              "      <th>s_width</th>\n",
              "      <th>p_length</th>\n",
              "      <th>p_width</th>\n",
              "      <th>class</th>\n",
              "    </tr>\n",
              "  </thead>\n",
              "  <tbody>\n",
              "    <tr>\n",
              "      <th>0</th>\n",
              "      <td>5.1</td>\n",
              "      <td>3.5</td>\n",
              "      <td>1.4</td>\n",
              "      <td>0.2</td>\n",
              "      <td>Iris-setosa</td>\n",
              "    </tr>\n",
              "    <tr>\n",
              "      <th>1</th>\n",
              "      <td>4.9</td>\n",
              "      <td>3.0</td>\n",
              "      <td>1.4</td>\n",
              "      <td>0.2</td>\n",
              "      <td>Iris-setosa</td>\n",
              "    </tr>\n",
              "    <tr>\n",
              "      <th>2</th>\n",
              "      <td>4.7</td>\n",
              "      <td>3.2</td>\n",
              "      <td>1.3</td>\n",
              "      <td>0.2</td>\n",
              "      <td>Iris-setosa</td>\n",
              "    </tr>\n",
              "    <tr>\n",
              "      <th>3</th>\n",
              "      <td>4.6</td>\n",
              "      <td>3.1</td>\n",
              "      <td>1.5</td>\n",
              "      <td>0.2</td>\n",
              "      <td>Iris-setosa</td>\n",
              "    </tr>\n",
              "    <tr>\n",
              "      <th>4</th>\n",
              "      <td>5.0</td>\n",
              "      <td>3.6</td>\n",
              "      <td>1.4</td>\n",
              "      <td>0.2</td>\n",
              "      <td>Iris-setosa</td>\n",
              "    </tr>\n",
              "  </tbody>\n",
              "</table>\n",
              "</div>"
            ],
            "text/plain": [
              "   s_length  s_width  p_length  p_width        class\n",
              "0       5.1      3.5       1.4      0.2  Iris-setosa\n",
              "1       4.9      3.0       1.4      0.2  Iris-setosa\n",
              "2       4.7      3.2       1.3      0.2  Iris-setosa\n",
              "3       4.6      3.1       1.5      0.2  Iris-setosa\n",
              "4       5.0      3.6       1.4      0.2  Iris-setosa"
            ]
          },
          "metadata": {},
          "execution_count": 2004
        }
      ]
    },
    {
      "cell_type": "code",
      "metadata": {
        "colab": {
          "base_uri": "https://localhost:8080/",
          "height": 206
        },
        "id": "hC2tsTw5Aybv",
        "outputId": "126577f9-b3ce-40a8-afcf-7f18acf95fa6"
      },
      "source": [
        "# select two of the four features you want to\n",
        "# work with for this exercise, by dropping two you \n",
        "# don't want to work with\n",
        "data = df_iris.drop(columns=['s_width', 'p_length'])\n",
        "data.head()"
      ],
      "execution_count": null,
      "outputs": [
        {
          "output_type": "execute_result",
          "data": {
            "text/html": [
              "<div>\n",
              "<style scoped>\n",
              "    .dataframe tbody tr th:only-of-type {\n",
              "        vertical-align: middle;\n",
              "    }\n",
              "\n",
              "    .dataframe tbody tr th {\n",
              "        vertical-align: top;\n",
              "    }\n",
              "\n",
              "    .dataframe thead th {\n",
              "        text-align: right;\n",
              "    }\n",
              "</style>\n",
              "<table border=\"1\" class=\"dataframe\">\n",
              "  <thead>\n",
              "    <tr style=\"text-align: right;\">\n",
              "      <th></th>\n",
              "      <th>s_length</th>\n",
              "      <th>p_width</th>\n",
              "      <th>class</th>\n",
              "    </tr>\n",
              "  </thead>\n",
              "  <tbody>\n",
              "    <tr>\n",
              "      <th>0</th>\n",
              "      <td>5.1</td>\n",
              "      <td>0.2</td>\n",
              "      <td>Iris-setosa</td>\n",
              "    </tr>\n",
              "    <tr>\n",
              "      <th>1</th>\n",
              "      <td>4.9</td>\n",
              "      <td>0.2</td>\n",
              "      <td>Iris-setosa</td>\n",
              "    </tr>\n",
              "    <tr>\n",
              "      <th>2</th>\n",
              "      <td>4.7</td>\n",
              "      <td>0.2</td>\n",
              "      <td>Iris-setosa</td>\n",
              "    </tr>\n",
              "    <tr>\n",
              "      <th>3</th>\n",
              "      <td>4.6</td>\n",
              "      <td>0.2</td>\n",
              "      <td>Iris-setosa</td>\n",
              "    </tr>\n",
              "    <tr>\n",
              "      <th>4</th>\n",
              "      <td>5.0</td>\n",
              "      <td>0.2</td>\n",
              "      <td>Iris-setosa</td>\n",
              "    </tr>\n",
              "  </tbody>\n",
              "</table>\n",
              "</div>"
            ],
            "text/plain": [
              "   s_length  p_width        class\n",
              "0       5.1      0.2  Iris-setosa\n",
              "1       4.9      0.2  Iris-setosa\n",
              "2       4.7      0.2  Iris-setosa\n",
              "3       4.6      0.2  Iris-setosa\n",
              "4       5.0      0.2  Iris-setosa"
            ]
          },
          "metadata": {},
          "execution_count": 2005
        }
      ]
    },
    {
      "cell_type": "code",
      "metadata": {
        "colab": {
          "base_uri": "https://localhost:8080/",
          "height": 406
        },
        "id": "IAUbHAqDBrdD",
        "outputId": "86fb1a88-ea05-428b-cfe0-1ca04919f3e8"
      },
      "source": [
        "plt.figure(figsize=(12,6))\n",
        "sns.scatterplot(data=data, x='s_length', y='p_width', hue='class')"
      ],
      "execution_count": null,
      "outputs": [
        {
          "output_type": "execute_result",
          "data": {
            "text/plain": [
              "<matplotlib.axes._subplots.AxesSubplot at 0x7f018e21a710>"
            ]
          },
          "metadata": {},
          "execution_count": 2006
        },
        {
          "output_type": "display_data",
          "data": {
            "image/png": "[encoded data removed]",
            "text/plain": [
              "<Figure size 864x432 with 1 Axes>"
            ]
          },
          "metadata": {
            "needs_background": "light"
          }
        }
      ]
    },
    {
      "cell_type": "code",
      "metadata": {
        "id": "c0j9vLIICRtg"
      },
      "source": [
        "# if we are training to predict setosa then make it binary\n",
        "# where 1 = setosa and 0 = NOT setosa\n",
        "data.loc[data['class'] == 'Iris-setosa', 'class'] = 1\n",
        "data.loc[data['class'] == 'Iris-virginica', 'class'] = 0\n",
        "data.loc[data['class'] == 'Iris-versicolor', 'class'] = 0\n",
        "\n",
        "# now change the features to also be binary\n",
        "data.loc[data['class'] == 1, 's_length'] = 1\n",
        "data.loc[data['class'] == 1, 'p_width'] = 1"
      ],
      "execution_count": null,
      "outputs": []
    },
    {
      "cell_type": "code",
      "metadata": {
        "id": "zbgzm0kMGQtF"
      },
      "source": [
        "# here is the hard part, pretend that someone when and by hand labeled the data such that\n",
        "# 0 meant that it was no chance it could be a setosa and a 1 meant that is could be a setosa\n",
        "# based on the s_length, and then based on the s_width.  The following data manimpulation \n",
        "# code attempts to do just that.  Might have been easiser to just label them by hand.\n",
        "data.loc[(data['class'] == 0) & (data['s_length'] < 6), 's_length'] = 1\n",
        "data.loc[(data['class'] == 0) & (data['p_width'] < 1), 'p_width'] = 1\n",
        "\n",
        "# everthing else should be set to zeros\n",
        "data.loc[(data['class'] == 0) & (data['s_length'] != 1), 's_length'] = 0\n",
        "data.loc[(data['class'] == 0) & (data['p_width'] != 1), 'p_width'] = 0\n",
        "\n",
        "data_train = data.sample(SAMPLE)"
      ],
      "execution_count": null,
      "outputs": []
    },
    {
      "cell_type": "code",
      "metadata": {
        "colab": {
          "base_uri": "https://localhost:8080/"
        },
        "id": "ZXqUJ7jvM9tp",
        "outputId": "36cb8998-bcd8-4e80-e013-b410d8d39826"
      },
      "source": [
        "#X = np.array([[0,1,0], [0,0,1], [1,1,0], [1,0,1]])\n",
        "#y = np.array([[0],[0],[1],[1]])\n",
        "# - scl\n",
        "# because I am dealing with dataframes I am going to use the\n",
        "# to_numpy() method and make X - Features and y - observations\n",
        "X = data_train[['s_length', 'p_width']].to_numpy()\n",
        "y = data_train[['class']].to_numpy()\n",
        "\n",
        "# Need the shape m x n\n",
        "s = X.shape\n",
        "m = s[0]\n",
        "n = s[1]\n",
        "\n",
        "w = np.random.randn(n,1)\n",
        "p = np.zeros((len(X),1))\n",
        "\n",
        "print(X.shape)\n",
        "print(y.shape)"
      ],
      "execution_count": null,
      "outputs": [
        {
          "output_type": "stream",
          "name": "stdout",
          "text": [
            "(20, 2)\n",
            "(20, 1)\n"
          ]
        }
      ]
    },
    {
      "cell_type": "code",
      "metadata": {
        "colab": {
          "base_uri": "https://localhost:8080/",
          "height": 112
        },
        "id": "9BqkJKMpPW4U",
        "outputId": "1b8a93f3-a936-4d92-b00f-ebb410689abd"
      },
      "source": [
        "data_w = pd.DataFrame(w)\n",
        "data_p = pd.DataFrame(p)\n",
        "data_w"
      ],
      "execution_count": null,
      "outputs": [
        {
          "output_type": "execute_result",
          "data": {
            "text/html": [
              "<div>\n",
              "<style scoped>\n",
              "    .dataframe tbody tr th:only-of-type {\n",
              "        vertical-align: middle;\n",
              "    }\n",
              "\n",
              "    .dataframe tbody tr th {\n",
              "        vertical-align: top;\n",
              "    }\n",
              "\n",
              "    .dataframe thead th {\n",
              "        text-align: right;\n",
              "    }\n",
              "</style>\n",
              "<table border=\"1\" class=\"dataframe\">\n",
              "  <thead>\n",
              "    <tr style=\"text-align: right;\">\n",
              "      <th></th>\n",
              "      <th>0</th>\n",
              "    </tr>\n",
              "  </thead>\n",
              "  <tbody>\n",
              "    <tr>\n",
              "      <th>0</th>\n",
              "      <td>2.173335</td>\n",
              "    </tr>\n",
              "    <tr>\n",
              "      <th>1</th>\n",
              "      <td>-0.968104</td>\n",
              "    </tr>\n",
              "  </tbody>\n",
              "</table>\n",
              "</div>"
            ],
            "text/plain": [
              "          0\n",
              "0  2.173335\n",
              "1 -0.968104"
            ]
          },
          "metadata": {},
          "execution_count": 2010
        }
      ]
    },
    {
      "cell_type": "code",
      "metadata": {
        "id": "27PBvHulOHwy"
      },
      "source": [
        "iter = ITERATIONS\n",
        "for i in range(iter):\n",
        "  # compute the dot product based on the weight = net\n",
        "  net = np.dot(X,w)\n",
        "\n",
        "  prob = []\n",
        "  for num in net:\n",
        "    prob.append(sigmoid(num))\n",
        "    prob_update = np.array(prob)\n",
        "\n",
        "  data_p[i+1] = prob_update\n",
        "  err = y - prob_update\n",
        "\n",
        "  w_err = []\n",
        "  for num in err:\n",
        "    w_err.append(derivative_sigmoid(num))\n",
        "  \n",
        "  delta = err * w_err\n",
        "  update_weights = np.dot(X.T, delta)\n",
        "  data_w[i+1] = update_weights\n",
        "  w = update_weights\n"
      ],
      "execution_count": null,
      "outputs": []
    },
    {
      "cell_type": "code",
      "metadata": {
        "colab": {
          "base_uri": "https://localhost:8080/",
          "height": 132
        },
        "id": "k2HbuZfzVvSK",
        "outputId": "bdab37de-a2f2-42ce-aa01-a65e848121e2"
      },
      "source": [
        "data_w.head()"
      ],
      "execution_count": null,
      "outputs": [
        {
          "output_type": "execute_result",
          "data": {
            "text/html": [
              "<div>\n",
              "<style scoped>\n",
              "    .dataframe tbody tr th:only-of-type {\n",
              "        vertical-align: middle;\n",
              "    }\n",
              "\n",
              "    .dataframe tbody tr th {\n",
              "        vertical-align: top;\n",
              "    }\n",
              "\n",
              "    .dataframe thead th {\n",
              "        text-align: right;\n",
              "    }\n",
              "</style>\n",
              "<table border=\"1\" class=\"dataframe\">\n",
              "  <thead>\n",
              "    <tr style=\"text-align: right;\">\n",
              "      <th></th>\n",
              "      <th>0</th>\n",
              "      <th>1</th>\n",
              "      <th>2</th>\n",
              "      <th>3</th>\n",
              "      <th>4</th>\n",
              "      <th>5</th>\n",
              "      <th>6</th>\n",
              "      <th>7</th>\n",
              "      <th>8</th>\n",
              "      <th>9</th>\n",
              "      <th>10</th>\n",
              "      <th>11</th>\n",
              "      <th>12</th>\n",
              "      <th>13</th>\n",
              "      <th>14</th>\n",
              "      <th>15</th>\n",
              "      <th>16</th>\n",
              "      <th>17</th>\n",
              "      <th>18</th>\n",
              "      <th>19</th>\n",
              "      <th>20</th>\n",
              "      <th>21</th>\n",
              "      <th>22</th>\n",
              "      <th>23</th>\n",
              "      <th>24</th>\n",
              "      <th>25</th>\n",
              "    </tr>\n",
              "  </thead>\n",
              "  <tbody>\n",
              "    <tr>\n",
              "      <th>0</th>\n",
              "      <td>2.173335</td>\n",
              "      <td>-0.155878</td>\n",
              "      <td>0.405411</td>\n",
              "      <td>0.0064286</td>\n",
              "      <td>0.312098</td>\n",
              "      <td>0.0706662</td>\n",
              "      <td>0.259548</td>\n",
              "      <td>0.109985</td>\n",
              "      <td>0.227599</td>\n",
              "      <td>0.134462</td>\n",
              "      <td>0.207882</td>\n",
              "      <td>0.149763</td>\n",
              "      <td>0.195636</td>\n",
              "      <td>0.159337</td>\n",
              "      <td>0.188007</td>\n",
              "      <td>0.165327</td>\n",
              "      <td>0.183247</td>\n",
              "      <td>0.169075</td>\n",
              "      <td>0.180275</td>\n",
              "      <td>0.171418</td>\n",
              "      <td>0.178419</td>\n",
              "      <td>0.172883</td>\n",
              "      <td>0.177259</td>\n",
              "      <td>0.173799</td>\n",
              "      <td>0.176534</td>\n",
              "      <td>0.174372</td>\n",
              "    </tr>\n",
              "    <tr>\n",
              "      <th>1</th>\n",
              "      <td>-0.968104</td>\n",
              "      <td>0.398141</td>\n",
              "      <td>0.733493</td>\n",
              "      <td>0.418233</td>\n",
              "      <td>0.665597</td>\n",
              "      <td>0.469536</td>\n",
              "      <td>0.622902</td>\n",
              "      <td>0.50136</td>\n",
              "      <td>0.596911</td>\n",
              "      <td>0.521212</td>\n",
              "      <td>0.580873</td>\n",
              "      <td>0.533634</td>\n",
              "      <td>0.570914</td>\n",
              "      <td>0.54141</td>\n",
              "      <td>0.564711</td>\n",
              "      <td>0.546277</td>\n",
              "      <td>0.560841</td>\n",
              "      <td>0.549322</td>\n",
              "      <td>0.558425</td>\n",
              "      <td>0.551226</td>\n",
              "      <td>0.556916</td>\n",
              "      <td>0.552417</td>\n",
              "      <td>0.555973</td>\n",
              "      <td>0.553161</td>\n",
              "      <td>0.555384</td>\n",
              "      <td>0.553627</td>\n",
              "    </tr>\n",
              "  </tbody>\n",
              "</table>\n",
              "</div>"
            ],
            "text/plain": [
              "         0         1         2   ...        23        24        25\n",
              "0  2.173335 -0.155878  0.405411  ...  0.173799  0.176534  0.174372\n",
              "1 -0.968104  0.398141  0.733493  ...  0.553161  0.555384  0.553627\n",
              "\n",
              "[2 rows x 26 columns]"
            ]
          },
          "metadata": {},
          "execution_count": 2012
        }
      ]
    },
    {
      "cell_type": "code",
      "metadata": {
        "colab": {
          "base_uri": "https://localhost:8080/",
          "height": 282
        },
        "id": "CMq4Ux4cV8Sy",
        "outputId": "32046dde-adf9-4a9d-df8c-fb160b19cc93"
      },
      "source": [
        "plt.figure(figsize=(12,4))\n",
        "sns.lineplot(data=data_w.iloc[0])\n",
        "sns.lineplot(data=data_w.iloc[1])"
      ],
      "execution_count": null,
      "outputs": [
        {
          "output_type": "execute_result",
          "data": {
            "text/plain": [
              "<matplotlib.axes._subplots.AxesSubplot at 0x7f018e3a5290>"
            ]
          },
          "metadata": {},
          "execution_count": 2013
        },
        {
          "output_type": "display_data",
          "data": {
            "image/png": "[encoded data removed]",
            "text/plain": [
              "<Figure size 864x288 with 1 Axes>"
            ]
          },
          "metadata": {
            "needs_background": "light"
          }
        }
      ]
    }
  ]
}