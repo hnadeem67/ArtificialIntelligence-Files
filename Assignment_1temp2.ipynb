{
  "nbformat": 4,
  "nbformat_minor": 0,
  "metadata": {
    "colab": {
      "name": "Assignment_1.ipynb",
      "provenance": [],
      "collapsed_sections": []
    },
    "kernelspec": {
      "name": "python3",
      "display_name": "Python 3"
    },
    "language_info": {
      "name": "python"
    }
  },
  "cells": [
    {
      "cell_type": "code",
      "execution_count": 52,
      "metadata": {
        "id": "M5gRzmqcx814"
      },
      "outputs": [],
      "source": [
        "# Description:  Calculate Linear regression using Python\n",
        "#               - Mean (sample and population)\n",
        "#               - Calculate the Adjusted Mean \n",
        "#               - Standard Deviation\n",
        "#               - Variance\n",
        "#               - CoVariance Matrix\n",
        "#\n",
        "# Author: Ajinkya Mukherjee\n",
        "# Date: 2/15/2022\n",
        "#\n",
        "# -    -    -    -    -    -    -    -    -    -    -    -    -    \n",
        "# Revision History\n",
        "# Name      Date        Description\n",
        "# scl      2/15/2022    File Created with basic imports\n",
        "# scl      2/15/2022    Add all functions needed for Assignment 1\n",
        "# scl      2/2/2022     Add function for Variance\n",
        "# scl      2/3/2022     Add function for Create the CoVariance Matrix\n",
        "#\n",
        "# -    -    -    -    -    -    -    -    -    -    -    -    -    "
      ]
    },
    {
      "cell_type": "code",
      "source": [
        "import matplotlib.pyplot as plt\n",
        "import seaborn as sns\n",
        "import pandas as pd \n",
        "import numpy as np"
      ],
      "metadata": {
        "id": "MB96QZ4EyKfB"
      },
      "execution_count": 53,
      "outputs": []
    },
    {
      "cell_type": "code",
      "source": [
        "# Functions used for assignement 1\n",
        "\n",
        "\n",
        "def funcSTD(p1,mu):\n",
        "  N = len(p1)\n",
        "  v = 0\n",
        "  for n in p1:\n",
        "    v += ((n-mu)**2)\n",
        "  popVariance = v/N\n",
        "  sigma = np.sqrt(popVariance)\n",
        "\n",
        "  return sigma\n",
        "\n",
        "\n",
        "def funcVariance(p1,p2):\n",
        "  variance = funcSTD(p1,p2)**2\n",
        "  return variance\n",
        "\n",
        "\n",
        "\n",
        "\n",
        "def funcCovariance(p1,p2):\n",
        "  d = np.array([zip(p1,p2)])\n",
        "  coVarMatrix = np.cov(d,bias=False) \n",
        "  return coVarMatrix\n",
        "\n",
        "\n",
        "def funcErrorResidual(yTest,yPredicted):\n",
        "  residual =  yTest - yPredicted\n",
        "  return residual\n",
        "\n",
        "\n",
        "\n",
        "def funcMean(p1,p2):\n",
        "  result = -11\n",
        "  if p2 == \"pop\":\n",
        "    result = p1.sum() / len(p1)\n",
        "  elif p2 == \"sam\":\n",
        "    denom = len(p1) - 1\n",
        "    result = p1.sum() / denom\n",
        "  return result\n",
        "\n",
        "\n",
        "def funcAdjacentMean(p1,p2):\n",
        "  result = -11\n",
        "  m = funcMean(p1,p2)\n",
        "  result = (p1 - m)\n",
        "  result = result.rename(str.upper,axis='columns')\n",
        "  return result,m\n",
        "\n",
        "# Equation of line => y = m*x + c \n",
        "# where m = slope and c = Y-Intercept and x = GDP Per Capita\n",
        "def funcCalculatemc(adjX,adjY,meanX,meanY):\n",
        "  m = sum((adjX)*(adjY))/sum(adjX**2)\n",
        "  c = meanY - (m * meanX) # Rewriting the equation of the line \n",
        "  print('m = ', m)\n",
        "  print('c = ', c)\n",
        "  return m,c\n",
        "\n",
        "\n",
        "# Predicting How Happy a Country is:\n",
        "# Life Satification Going up is equivalent to being More Happy\n",
        "def funcPredict(c,m,x):\n",
        "  prediction = []\n",
        "  for num in x:\n",
        "    prediction.append(c + (m*num))\n",
        "  return prediction\n"
      ],
      "metadata": {
        "id": "1ObUKkb-yes8"
      },
      "execution_count": 54,
      "outputs": []
    },
    {
      "cell_type": "code",
      "source": [
        "# main function \n",
        "# \n",
        "def main():\n",
        "\n",
        "  data = pd.read_csv(r'/content/sample_data/LifeExpectancyData.csv')\n",
        "  #print(data)\n",
        "\n",
        "  data = pd.DataFrame(data, columns= ['GDP','Population'])\n",
        "  data['GDP'] = data.to_numeric(data['GDP'])\n",
        "  print(data)\n",
        "\n",
        "  # Population Mean\n",
        "  popAns, popMean = funcAdjacentMean(data,'pop')\n",
        "  # axis = 0 => rows\n",
        "  # axis = 1 => columns\n",
        "  popAns = pd.concat([data,popAns],axis=1) # concatinating at y axis\n",
        "\n",
        "  # y = m*x + c\n",
        "  # y = b1*x + b0\n",
        "\n",
        "  c, m = funcCalculatemc(popAns['GDP'],popAns['Population'],popMean[0],popMean[1]) # Calcualting Slope (b1 = m) and yintercept (b0 = c)\n",
        "\n",
        "  yPrediction = funcPredict(c,m,data['GDP']) # Predict Y based on the Linear regression Model\n",
        "\n",
        "  print('\\n\\n-- End --')\n",
        "\n",
        "  #return data, popAns, yPrediction\n",
        "  return popAns\n"
      ],
      "metadata": {
        "id": "ewRs1F8mGAsF"
      },
      "execution_count": 70,
      "outputs": []
    },
    {
      "cell_type": "code",
      "source": [
        "\n",
        "\n",
        "#data,answer,prediction = main()\n",
        "answer = main()\n",
        "print(answer)\n"
      ],
      "metadata": {
        "colab": {
          "base_uri": "https://localhost:8080/",
          "height": 364
        },
        "id": "cOhX9nECpZVJ",
        "outputId": "33900e60-f2e6-47e4-b4ed-cfe6f376c726"
      },
      "execution_count": 71,
      "outputs": [
        {
          "output_type": "error",
          "ename": "AttributeError",
          "evalue": "ignored",
          "traceback": [
            "\u001b[0;31m---------------------------------------------------------------------------\u001b[0m",
            "\u001b[0;31mAttributeError\u001b[0m                            Traceback (most recent call last)",
            "\u001b[0;32m<ipython-input-71-e497de132261>\u001b[0m in \u001b[0;36m<module>\u001b[0;34m()\u001b[0m\n\u001b[1;32m      2\u001b[0m \u001b[0;34m\u001b[0m\u001b[0m\n\u001b[1;32m      3\u001b[0m \u001b[0;31m#data,answer,prediction = main()\u001b[0m\u001b[0;34m\u001b[0m\u001b[0;34m\u001b[0m\u001b[0;34m\u001b[0m\u001b[0m\n\u001b[0;32m----> 4\u001b[0;31m \u001b[0manswer\u001b[0m \u001b[0;34m=\u001b[0m \u001b[0mmain\u001b[0m\u001b[0;34m(\u001b[0m\u001b[0;34m)\u001b[0m\u001b[0;34m\u001b[0m\u001b[0;34m\u001b[0m\u001b[0m\n\u001b[0m\u001b[1;32m      5\u001b[0m \u001b[0mprint\u001b[0m\u001b[0;34m(\u001b[0m\u001b[0manswer\u001b[0m\u001b[0;34m)\u001b[0m\u001b[0;34m\u001b[0m\u001b[0;34m\u001b[0m\u001b[0m\n",
            "\u001b[0;32m<ipython-input-70-93ef1bb50fbf>\u001b[0m in \u001b[0;36mmain\u001b[0;34m()\u001b[0m\n\u001b[1;32m      7\u001b[0m \u001b[0;34m\u001b[0m\u001b[0m\n\u001b[1;32m      8\u001b[0m   \u001b[0mdata\u001b[0m \u001b[0;34m=\u001b[0m \u001b[0mpd\u001b[0m\u001b[0;34m.\u001b[0m\u001b[0mDataFrame\u001b[0m\u001b[0;34m(\u001b[0m\u001b[0mdata\u001b[0m\u001b[0;34m,\u001b[0m \u001b[0mcolumns\u001b[0m\u001b[0;34m=\u001b[0m \u001b[0;34m[\u001b[0m\u001b[0;34m'GDP'\u001b[0m\u001b[0;34m,\u001b[0m\u001b[0;34m'Population'\u001b[0m\u001b[0;34m]\u001b[0m\u001b[0;34m)\u001b[0m\u001b[0;34m\u001b[0m\u001b[0;34m\u001b[0m\u001b[0m\n\u001b[0;32m----> 9\u001b[0;31m   \u001b[0mdata\u001b[0m\u001b[0;34m[\u001b[0m\u001b[0;34m'GDP'\u001b[0m\u001b[0;34m]\u001b[0m \u001b[0;34m=\u001b[0m \u001b[0mdata\u001b[0m\u001b[0;34m.\u001b[0m\u001b[0mto_numeric\u001b[0m\u001b[0;34m(\u001b[0m\u001b[0mdata\u001b[0m\u001b[0;34m[\u001b[0m\u001b[0;34m'GDP'\u001b[0m\u001b[0;34m]\u001b[0m\u001b[0;34m)\u001b[0m\u001b[0;34m\u001b[0m\u001b[0;34m\u001b[0m\u001b[0m\n\u001b[0m\u001b[1;32m     10\u001b[0m   \u001b[0mprint\u001b[0m\u001b[0;34m(\u001b[0m\u001b[0mdata\u001b[0m\u001b[0;34m)\u001b[0m\u001b[0;34m\u001b[0m\u001b[0;34m\u001b[0m\u001b[0m\n\u001b[1;32m     11\u001b[0m \u001b[0;34m\u001b[0m\u001b[0m\n",
            "\u001b[0;32m/usr/local/lib/python3.7/dist-packages/pandas/core/generic.py\u001b[0m in \u001b[0;36m__getattr__\u001b[0;34m(self, name)\u001b[0m\n\u001b[1;32m   5485\u001b[0m         ):\n\u001b[1;32m   5486\u001b[0m             \u001b[0;32mreturn\u001b[0m \u001b[0mself\u001b[0m\u001b[0;34m[\u001b[0m\u001b[0mname\u001b[0m\u001b[0;34m]\u001b[0m\u001b[0;34m\u001b[0m\u001b[0;34m\u001b[0m\u001b[0m\n\u001b[0;32m-> 5487\u001b[0;31m         \u001b[0;32mreturn\u001b[0m \u001b[0mobject\u001b[0m\u001b[0;34m.\u001b[0m\u001b[0m__getattribute__\u001b[0m\u001b[0;34m(\u001b[0m\u001b[0mself\u001b[0m\u001b[0;34m,\u001b[0m \u001b[0mname\u001b[0m\u001b[0;34m)\u001b[0m\u001b[0;34m\u001b[0m\u001b[0;34m\u001b[0m\u001b[0m\n\u001b[0m\u001b[1;32m   5488\u001b[0m \u001b[0;34m\u001b[0m\u001b[0m\n\u001b[1;32m   5489\u001b[0m     \u001b[0;32mdef\u001b[0m \u001b[0m__setattr__\u001b[0m\u001b[0;34m(\u001b[0m\u001b[0mself\u001b[0m\u001b[0;34m,\u001b[0m \u001b[0mname\u001b[0m\u001b[0;34m:\u001b[0m \u001b[0mstr\u001b[0m\u001b[0;34m,\u001b[0m \u001b[0mvalue\u001b[0m\u001b[0;34m)\u001b[0m \u001b[0;34m->\u001b[0m \u001b[0;32mNone\u001b[0m\u001b[0;34m:\u001b[0m\u001b[0;34m\u001b[0m\u001b[0;34m\u001b[0m\u001b[0m\n",
            "\u001b[0;31mAttributeError\u001b[0m: 'DataFrame' object has no attribute 'to_numeric'"
          ]
        }
      ]
    },
    {
      "cell_type": "code",
      "source": [
        "sns.set(style='whitegrid',context='notebook')\n",
        "sns.lineplot(data=answer, x='GDP', y='Population')\n",
        "sns.lineplot(data=answer, x='GDP', y=prediction)\n",
        "plt.title('Original Data')\n",
        "plt.show()\n",
        "\n",
        "sns.lineplot(data=answer, x='GDP', y='Population')\n",
        "plt.title('Adjusted Mean Data')\n",
        "plt.show()"
      ],
      "metadata": {
        "colab": {
          "base_uri": "https://localhost:8080/",
          "height": 236
        },
        "id": "H49kSZMstsdY",
        "outputId": "cdec0952-2c2c-4ce1-b2b7-0bffc0619a5e"
      },
      "execution_count": 67,
      "outputs": [
        {
          "output_type": "error",
          "ename": "NameError",
          "evalue": "ignored",
          "traceback": [
            "\u001b[0;31m---------------------------------------------------------------------------\u001b[0m",
            "\u001b[0;31mNameError\u001b[0m                                 Traceback (most recent call last)",
            "\u001b[0;32m<ipython-input-67-9c53f02c2852>\u001b[0m in \u001b[0;36m<module>\u001b[0;34m()\u001b[0m\n\u001b[1;32m      1\u001b[0m \u001b[0msns\u001b[0m\u001b[0;34m.\u001b[0m\u001b[0mset\u001b[0m\u001b[0;34m(\u001b[0m\u001b[0mstyle\u001b[0m\u001b[0;34m=\u001b[0m\u001b[0;34m'whitegrid'\u001b[0m\u001b[0;34m,\u001b[0m\u001b[0mcontext\u001b[0m\u001b[0;34m=\u001b[0m\u001b[0;34m'notebook'\u001b[0m\u001b[0;34m)\u001b[0m\u001b[0;34m\u001b[0m\u001b[0;34m\u001b[0m\u001b[0m\n\u001b[0;32m----> 2\u001b[0;31m \u001b[0msns\u001b[0m\u001b[0;34m.\u001b[0m\u001b[0mlineplot\u001b[0m\u001b[0;34m(\u001b[0m\u001b[0mdata\u001b[0m\u001b[0;34m=\u001b[0m\u001b[0manswer\u001b[0m\u001b[0;34m,\u001b[0m \u001b[0mx\u001b[0m\u001b[0;34m=\u001b[0m\u001b[0;34m'GDP'\u001b[0m\u001b[0;34m,\u001b[0m \u001b[0my\u001b[0m\u001b[0;34m=\u001b[0m\u001b[0;34m'Population'\u001b[0m\u001b[0;34m)\u001b[0m\u001b[0;34m\u001b[0m\u001b[0;34m\u001b[0m\u001b[0m\n\u001b[0m\u001b[1;32m      3\u001b[0m \u001b[0msns\u001b[0m\u001b[0;34m.\u001b[0m\u001b[0mlineplot\u001b[0m\u001b[0;34m(\u001b[0m\u001b[0mdata\u001b[0m\u001b[0;34m=\u001b[0m\u001b[0manswer\u001b[0m\u001b[0;34m,\u001b[0m \u001b[0mx\u001b[0m\u001b[0;34m=\u001b[0m\u001b[0;34m'GDP'\u001b[0m\u001b[0;34m,\u001b[0m \u001b[0my\u001b[0m\u001b[0;34m=\u001b[0m\u001b[0mprediction\u001b[0m\u001b[0;34m)\u001b[0m\u001b[0;34m\u001b[0m\u001b[0;34m\u001b[0m\u001b[0m\n\u001b[1;32m      4\u001b[0m \u001b[0mplt\u001b[0m\u001b[0;34m.\u001b[0m\u001b[0mtitle\u001b[0m\u001b[0;34m(\u001b[0m\u001b[0;34m'Original Data'\u001b[0m\u001b[0;34m)\u001b[0m\u001b[0;34m\u001b[0m\u001b[0;34m\u001b[0m\u001b[0m\n\u001b[1;32m      5\u001b[0m \u001b[0mplt\u001b[0m\u001b[0;34m.\u001b[0m\u001b[0mshow\u001b[0m\u001b[0;34m(\u001b[0m\u001b[0;34m)\u001b[0m\u001b[0;34m\u001b[0m\u001b[0;34m\u001b[0m\u001b[0m\n",
            "\u001b[0;31mNameError\u001b[0m: name 'answer' is not defined"
          ]
        }
      ]
    }
  ]
}