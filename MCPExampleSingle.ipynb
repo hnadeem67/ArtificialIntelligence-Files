{
  "nbformat": 4,
  "nbformat_minor": 0,
  "metadata": {
    "colab": {
      "name": "MCPExampleSingle.ipynb",
      "provenance": []
    },
    "kernelspec": {
      "name": "python3",
      "display_name": "Python 3"
    },
    "language_info": {
      "name": "python"
    }
  },
  "cells": [
    {
      "cell_type": "markdown",
      "source": [
        "1. Initialize the Weights Vector w (random)\n",
        "2. Pick a learning-rate parameter n, which is small positive real number. \n",
        "3. Consider each training example t=(x,y) in turn.\n",
        "  (a) let y' = wx\n",
        "  (b) if y' and y have the same sign, then do nothing, t is properly classified.\n",
        "  (c) However, y' and y are different signs, or y' = 0, replace w by w + nyx. This will adjust it slightly in one direction or the other."
      ],
      "metadata": {
        "id": "QbgwP0WlUOgb"
      }
    },
    {
      "cell_type": "code",
      "execution_count": 24,
      "metadata": {
        "id": "0Z7agFbhUKyJ"
      },
      "outputs": [],
      "source": [
        "import numpy as np\n",
        "import pandas as pd "
      ]
    },
    {
      "cell_type": "code",
      "source": [
        "# X - feature Matrix\n",
        "# y - observations (labels)\n",
        "# w - weights\n",
        "# p - probabilities \n",
        "# n - learning-rate"
      ],
      "metadata": {
        "id": "UDW3tBm9VQka"
      },
      "execution_count": 25,
      "outputs": []
    },
    {
      "cell_type": "code",
      "source": [
        "X = np.array([[0,0,1],[0,1,1],[1,1,1],[0,1,0]])\n",
        "y = np.array([[0],[0],[1],[1]])\n",
        "w = np.random.randn(3,1)\n",
        "p = np.zeros((4,1))\n",
        "n = 0.5\n"
      ],
      "metadata": {
        "id": "b9B8Cc2lVy3f"
      },
      "execution_count": 26,
      "outputs": []
    },
    {
      "cell_type": "code",
      "source": [
        "df_w = pd.DataFrame(w)\n",
        "df_p = pd.DataFrame(p)\n",
        "df_d = pd.DataFrame(p)"
      ],
      "metadata": {
        "id": "Ux2egwY1WTEK"
      },
      "execution_count": 27,
      "outputs": []
    },
    {
      "cell_type": "code",
      "source": [
        "def sigmoid(x):\n",
        "  ans = 1 / (1 + np.e**(-x))\n",
        "  return ans\n",
        "\n",
        "def derivative_sigmoid(x):\n",
        "  ans = sigmoid(x) * (1 - sigmoid(x))\n",
        "  return ans\n"
      ],
      "metadata": {
        "id": "wgqGoFahWgFR"
      },
      "execution_count": 28,
      "outputs": []
    },
    {
      "cell_type": "code",
      "source": [
        "# Lets iterate until we converge\n",
        "# sigmoid to calculate the probablity of being correct\n",
        "iter = 5\n",
        "\n",
        "for i in range(iter):\n",
        "  # compute the theta or net input\n",
        "  theta = np.dot(X, w).round(3)\n",
        "\n",
        "  # probablity of being correct\n",
        "  prob = []\n",
        "  for num in theta:\n",
        "    prob.append(sigmoid(num))\n",
        "    prob_update = np.array(prob)\n",
        "  df_p [i+1] = prob_update\n",
        "\n",
        "  err = y - prob_update\n",
        "\n",
        "  for num in err:\n",
        "    w_err = (derivative_sigmoid(num))\n",
        "\n",
        "  delta = err * w_err\n",
        "  df_d[i+1] = delta\n",
        "\n",
        "  update_weights = np.dot(X.T,delta).round(4)\n",
        "  df_w[i+1] = update_weights\n",
        "\n",
        "  w = update_weights\n",
        "\n",
        "print('\\nWeights Updated for each Iteration\\n')\n",
        "print((df_w).round(4))\n",
        "\n",
        "print('\\nProbability Updated for each Iteration\\n')\n",
        "print((df_p).round(4))\n",
        "\n",
        "print('\\nError Updated for each Iteration\\n')\n",
        "print((df_d).round(4))"
      ],
      "metadata": {
        "colab": {
          "base_uri": "https://localhost:8080/"
        },
        "id": "GUeVJ3tDXX2F",
        "outputId": "8f3f6cad-7227-4ed7-9bd2-19f27858111b"
      },
      "execution_count": 29,
      "outputs": [
        {
          "output_type": "stream",
          "name": "stdout",
          "text": [
            "\n",
            "Weights Updated for each Iteration\n",
            "\n",
            "        0       1       2       3       4       5\n",
            "0 -1.1373  0.2025  0.0868  0.1203  0.1096  0.1131\n",
            "1 -0.7574  0.3006  0.0477  0.1251  0.1006  0.1084\n",
            "2 -0.3900  0.0587 -0.1770 -0.0974 -0.1230 -0.1148\n",
            "\n",
            "Probability Updated for each Iteration\n",
            "\n",
            "     0       1       2       3       4       5\n",
            "0  0.0  0.4037  0.5147  0.4559  0.4758  0.4693\n",
            "1  0.0  0.2410  0.5888  0.4678  0.5070  0.4945\n",
            "2  0.0  0.0924  0.6369  0.4895  0.5369  0.5217\n",
            "3  0.0  0.3193  0.5747  0.5120  0.5312  0.5252\n",
            "\n",
            "Error Updated for each Iteration\n",
            "\n",
            "     0       1       2       3       4       5\n",
            "0  0.0 -0.0901 -0.1230 -0.1074 -0.1126 -0.1110\n",
            "1  0.0 -0.0538 -0.1407 -0.1103 -0.1200 -0.1169\n",
            "2  0.0  0.2025  0.0868  0.1203  0.1096  0.1131\n",
            "3  0.0  0.1519  0.1017  0.1150  0.1110  0.1122\n"
          ]
        }
      ]
    },
    {
      "cell_type": "code",
      "source": [
        "import seaborn as sns\n",
        "sns.lineplot(data=df_w.iloc[0])\n",
        "sns.lineplot(data=df_w.iloc[1])\n",
        "sns.lineplot(data=df_w.iloc[2])"
      ],
      "metadata": {
        "colab": {
          "base_uri": "https://localhost:8080/",
          "height": 282
        },
        "id": "SuLnW4p9ZabN",
        "outputId": "6f03e481-a26a-48e5-bf1d-13c81aa863dc"
      },
      "execution_count": 30,
      "outputs": [
        {
          "output_type": "execute_result",
          "data": {
            "text/plain": [
              "<matplotlib.axes._subplots.AxesSubplot at 0x7f9b60fdd510>"
            ]
          },
          "metadata": {},
          "execution_count": 30
        },
        {
          "output_type": "display_data",
          "data": {
            "text/plain": [
              "<Figure size 432x288 with 1 Axes>"
            ],
            "image/png": "[encoded data removed]"
          },
          "metadata": {
            "needs_background": "light"
          }
        }
      ]
    }
  ]
}