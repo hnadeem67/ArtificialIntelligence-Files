{
  "nbformat": 4,
  "nbformat_minor": 0,
  "metadata": {
    "colab": {
      "name": "Assignment4EDA.ipynb",
      "provenance": []
    },
    "kernelspec": {
      "name": "python3",
      "display_name": "Python 3"
    },
    "language_info": {
      "name": "python"
    }
  },
  "cells": [
    {
      "cell_type": "code",
      "execution_count": 5,
      "metadata": {
        "id": "VolL0XANhUaS"
      },
      "outputs": [],
      "source": [
        "import seaborn as sns\n",
        "import pandas as pd\n",
        "import numpy as np"
      ]
    },
    {
      "cell_type": "code",
      "source": [
        "def readData(l,f):\n",
        "  df = pd.read_csv(l+f)\n",
        "  print(df.head(), '\\n')\n",
        "  print(df.info(), '\\n')\n",
        "  print(df.describe(), '\\n')\n",
        "  return df \n"
      ],
      "metadata": {
        "id": "ANzvc2UVhaBY"
      },
      "execution_count": 2,
      "outputs": []
    },
    {
      "cell_type": "code",
      "source": [
        "def main():\n",
        "  loc = ''\n",
        "  file='Salary_Data.csv'\n",
        "  data = readData(loc, file)\n",
        "  return 0"
      ],
      "metadata": {
        "id": "SlMbzNwMhiol"
      },
      "execution_count": 3,
      "outputs": []
    },
    {
      "cell_type": "code",
      "source": [
        "main()"
      ],
      "metadata": {
        "colab": {
          "base_uri": "https://localhost:8080/"
        },
        "id": "KDd1rumQiBJM",
        "outputId": "9be3c574-316a-4271-fd79-fd4558c40515"
      },
      "execution_count": 4,
      "outputs": [
        {
          "output_type": "stream",
          "name": "stdout",
          "text": [
            "   YearsExperience  Salary  Class\n",
            "0              1.1   39343      0\n",
            "1              1.3   46205      0\n",
            "2              1.5   37731      0\n",
            "3              2.0   43525      0\n",
            "4              2.2   39891      0 \n",
            "\n",
            "<class 'pandas.core.frame.DataFrame'>\n",
            "RangeIndex: 30 entries, 0 to 29\n",
            "Data columns (total 3 columns):\n",
            " #   Column           Non-Null Count  Dtype  \n",
            "---  ------           --------------  -----  \n",
            " 0   YearsExperience  30 non-null     float64\n",
            " 1   Salary           30 non-null     int64  \n",
            " 2   Class            30 non-null     int64  \n",
            "dtypes: float64(1), int64(2)\n",
            "memory usage: 848.0 bytes\n",
            "None \n",
            "\n",
            "       YearsExperience         Salary      Class\n",
            "count        30.000000      30.000000  30.000000\n",
            "mean          5.313333   76003.000000   0.166667\n",
            "std           2.837888   27414.429785   0.379049\n",
            "min           1.100000   37731.000000   0.000000\n",
            "25%           3.200000   56720.750000   0.000000\n",
            "50%           4.700000   65237.000000   0.000000\n",
            "75%           7.700000  100544.750000   0.000000\n",
            "max          10.500000  122391.000000   1.000000 \n",
            "\n"
          ]
        },
        {
          "output_type": "execute_result",
          "data": {
            "text/plain": [
              "0"
            ]
          },
          "metadata": {},
          "execution_count": 4
        }
      ]
    }
  ]
}