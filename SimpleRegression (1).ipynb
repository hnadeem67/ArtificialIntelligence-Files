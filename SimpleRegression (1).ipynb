{
  "nbformat": 4,
  "nbformat_minor": 0,
  "metadata": {
    "colab": {
      "name": "SimpleRegression",
      "provenance": []
    },
    "kernelspec": {
      "name": "python3",
      "display_name": "Python 3"
    },
    "language_info": {
      "name": "python"
    }
  },
  "cells": [
    {
      "cell_type": "code",
      "metadata": {
        "id": "I237SqpoAu0v"
      },
      "source": [
        "import numpy as np "
      ],
      "execution_count": 1,
      "outputs": []
    },
    {
      "cell_type": "code",
      "metadata": {
        "id": "D9xP1TraACWp"
      },
      "source": [
        "x = list(range(1,6))\n",
        "y = [2, 4, 5, 4, 5]"
      ],
      "execution_count": 2,
      "outputs": []
    },
    {
      "cell_type": "code",
      "metadata": {
        "colab": {
          "base_uri": "https://localhost:8080/"
        },
        "id": "T6YiGcxeAoHB",
        "outputId": "689036ba-e094-4526-975b-57621db981aa"
      },
      "source": [
        "mean_x = np.mean(x)\n",
        "mean_y = np.mean(y)\n",
        "print(mean_x, mean_y)"
      ],
      "execution_count": 3,
      "outputs": [
        {
          "output_type": "stream",
          "name": "stdout",
          "text": [
            "3.0 4.0\n"
          ]
        }
      ]
    },
    {
      "cell_type": "code",
      "metadata": {
        "colab": {
          "base_uri": "https://localhost:8080/"
        },
        "id": "1vsM8ENvA8Zc",
        "outputId": "9dc85298-e649-4418-ee93-66869731e9d9"
      },
      "source": [
        "adjusted_x = x - mean_x\n",
        "adjusted_y = y - mean_y\n",
        "print(adjusted_x, adjusted_y)"
      ],
      "execution_count": 4,
      "outputs": [
        {
          "output_type": "stream",
          "name": "stdout",
          "text": [
            "[-2. -1.  0.  1.  2.] [-2.  0.  1.  0.  1.]\n"
          ]
        }
      ]
    },
    {
      "cell_type": "code",
      "metadata": {
        "colab": {
          "base_uri": "https://localhost:8080/"
        },
        "id": "2y4f_fweBKfP",
        "outputId": "4226fce1-d3ad-4022-b23d-6aef1c39d9f7"
      },
      "source": [
        "# y = b0 + b1 * x\n",
        "# b0 is the y-intercept\n",
        "# b1 is the slope of the line\n",
        "# --- - ---  ----- - -  - ------\n",
        "b1 = sum((adjusted_x)*(adjusted_y)) / sum((adjusted_x)**2)\n",
        "b0 = mean_y - b1*mean_x\n",
        "print(b1, b0)"
      ],
      "execution_count": 5,
      "outputs": [
        {
          "output_type": "stream",
          "name": "stdout",
          "text": [
            "0.6 2.2\n"
          ]
        }
      ]
    },
    {
      "cell_type": "code",
      "metadata": {
        "colab": {
          "base_uri": "https://localhost:8080/"
        },
        "id": "pk2Gyn5mCq-X",
        "outputId": "9de6b190-cbac-4708-e07d-3c00d35d8878"
      },
      "source": [
        "predict_y = []\n",
        "for num in x:\n",
        "  predict_y.append(b0 + (b1*num))\n",
        "print(predict_y)\n"
      ],
      "execution_count": 6,
      "outputs": [
        {
          "output_type": "stream",
          "name": "stdout",
          "text": [
            "[2.8000000000000003, 3.4000000000000004, 4.0, 4.6, 5.2]\n"
          ]
        }
      ]
    },
    {
      "cell_type": "code",
      "metadata": {
        "colab": {
          "base_uri": "https://localhost:8080/",
          "height": 265
        },
        "id": "vjhi9Pc2DhqH",
        "outputId": "ae72acd4-2b98-4440-de63-e442c8699872"
      },
      "source": [
        "data = np.array([x,y,predict_y])\n",
        "import matplotlib.pyplot as plt\n",
        "ax1 = plt.scatter(x,y)\n",
        "ax2 = plt.scatter(x,predict_y)\n"
      ],
      "execution_count": 7,
      "outputs": [
        {
          "output_type": "display_data",
          "data": {
            "image/png": "[encoded data removed]",
            "text/plain": [
              "<Figure size 432x288 with 1 Axes>"
            ]
          },
          "metadata": {
            "needs_background": "light"
          }
        }
      ]
    },
    {
      "cell_type": "code",
      "metadata": {
        "colab": {
          "base_uri": "https://localhost:8080/"
        },
        "id": "ZTQKCQJMFMz2",
        "outputId": "c160cd99-0217-43e5-9ba1-b43308659103"
      },
      "source": [
        "x.append(6)\n",
        "x.append(7)\n",
        "x.append(8)\n",
        "\n",
        "y.append(4)\n",
        "y.append(8)\n",
        "y.append(6)\n",
        "\n",
        "\n",
        "predict_y = []\n",
        "for num in x:\n",
        "  predict_y.append(b0 + (b1*num))\n",
        "print(predict_y)"
      ],
      "execution_count": 8,
      "outputs": [
        {
          "output_type": "stream",
          "name": "stdout",
          "text": [
            "[2.8000000000000003, 3.4000000000000004, 4.0, 4.6, 5.2, 5.8, 6.4, 7.0]\n"
          ]
        }
      ]
    },
    {
      "cell_type": "code",
      "metadata": {
        "colab": {
          "base_uri": "https://localhost:8080/",
          "height": 265
        },
        "id": "gRt6rgbqGBtv",
        "outputId": "5d869039-b109-42f8-99ae-1d80e6933d5f"
      },
      "source": [
        "data = np.array([x,y,predict_y])\n",
        "ax1 = plt.scatter(x,y)\n",
        "ax2 = plt.scatter(x,predict_y)"
      ],
      "execution_count": 9,
      "outputs": [
        {
          "output_type": "display_data",
          "data": {
            "image/png": "[encoded data removed]",
            "text/plain": [
              "<Figure size 432x288 with 1 Axes>"
            ]
          },
          "metadata": {
            "needs_background": "light"
          }
        }
      ]
    },
    {
      "cell_type": "code",
      "source": [
        "# Calculate the SSE / SSR for this simple example\n",
        "# SSR/SSE is the some of the squared error, the formula is\n",
        "# SSE is the sum of the squared differences between each \n",
        "# observation and its group's mean. It can be used as a \n",
        "# measure of variation within a cluster. If all cases within \n",
        "# a cluster are identical the SSE would then be equal to 0."
      ],
      "metadata": {
        "id": "q43E4I0LBroh"
      },
      "execution_count": null,
      "outputs": []
    }
  ]
}