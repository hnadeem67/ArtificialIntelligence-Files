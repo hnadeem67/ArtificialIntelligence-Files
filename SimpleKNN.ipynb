{
  "nbformat": 4,
  "nbformat_minor": 0,
  "metadata": {
    "colab": {
      "name": "SimpleKNN.ipynb",
      "provenance": []
    },
    "kernelspec": {
      "name": "python3",
      "display_name": "Python 3"
    },
    "language_info": {
      "name": "python"
    }
  },
  "cells": [
    {
      "cell_type": "code",
      "execution_count": 11,
      "metadata": {
        "id": "xO2UTZo-KSvf"
      },
      "outputs": [],
      "source": [
        "# Header Information\n",
        "# Description\n",
        "# Author\n",
        "# Date\n",
        "\n"
      ]
    },
    {
      "cell_type": "code",
      "source": [
        "import matplotlib.pyplot as plt\n",
        "import seaborn as sns\n",
        "import pandas as pd\n",
        "import numpy as np\n"
      ],
      "metadata": {
        "id": "0RWgaZ34Kayi"
      },
      "execution_count": 12,
      "outputs": []
    },
    {
      "cell_type": "code",
      "source": [
        "# Add utility functions here\n"
      ],
      "metadata": {
        "id": "8r-ssxZEKn9p"
      },
      "execution_count": 13,
      "outputs": []
    },
    {
      "cell_type": "code",
      "source": [
        "# add main() function here\n",
        "def main(x, y, c, t_x, t_y):\n",
        "  status = True\n",
        "  # Step 1: Choose a value for k\n",
        "  k = 3\n",
        "\n",
        "  # Step 2: Calculate the distance from target\n",
        "  \n",
        "  # Step 3: Determine the Nearest Neighbor \n",
        "\n",
        "  # Step 4: Predict the class label based on the majority vote\n",
        "\n",
        "  return status"
      ],
      "metadata": {
        "id": "jXxzHfblKq9F"
      },
      "execution_count": 14,
      "outputs": []
    },
    {
      "cell_type": "code",
      "source": [
        "# set up the data sets\n",
        "x = [4,5,6,7,4,5,6,7,4,5,6,7]\n",
        "y = [3,4,4,3,12,14,10,10,6,7,7,6]\n",
        "l = ['S','S','S','S','G','G','G','G','B','B','B','B']\n",
        "\n",
        "target_1_x = 5\n",
        "target_1_y = 10\n",
        "\n",
        "# then call main passing in the values\n",
        "s = main(x,y,l, target_1_x, target_1_y)"
      ],
      "metadata": {
        "id": "4aYRKEzRKxOx"
      },
      "execution_count": 15,
      "outputs": []
    }
  ]
}