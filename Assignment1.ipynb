{
  "nbformat": 4,
  "nbformat_minor": 0,
  "metadata": {
    "colab": {
      "name": "Assignment1.ipynb",
      "provenance": [],
      "collapsed_sections": []
    },
    "kernelspec": {
      "name": "python3",
      "display_name": "Python 3"
    },
    "language_info": {
      "name": "python"
    }
  },
  "cells": [
    {
      "cell_type": "code",
      "execution_count": 201,
      "metadata": {
        "id": "wF2DBVRd2Z2x"
      },
      "outputs": [],
      "source": [
        "import numpy as np\n",
        "import pandas as pd\n",
        "import matplotlib.pyplot as plt\n"
      ]
    },
    {
      "cell_type": "code",
      "source": [
        "def linearmodel(data):\n",
        "  Predict_store = []\n",
        "  for x in data:\n",
        "    Predict_store.append(4.85 + ((4.91*(10**-5)) * x))\n",
        "  return Predict_store"
      ],
      "metadata": {
        "id": "0ElMWh9nWcv1"
      },
      "execution_count": 202,
      "outputs": []
    },
    {
      "cell_type": "code",
      "source": [
        "\n",
        "k = 3\n",
        "\n",
        "#Load the data\n",
        "data = pd.read_csv('LifeExpectancyData.csv')\n",
        "data = data.dropna()\n",
        "\n",
        "\n",
        "# Features are :\n",
        "col_x = data['GDP']\n",
        "col_y = data['Population']\n",
        "\n",
        "\n",
        "gdp_var = data['GDP'] * (10**6)\n",
        "gdp_per_cap = gdp_var/data['Population']\n",
        "\n",
        "data['GDP_Per_Capita'] = gdp_per_cap\n",
        "\n",
        "\n",
        "life_sat_func = linearmodel(gdp_per_cap)\n",
        "\n",
        "data['life_sat_func'] = life_sat_func\n",
        "\n",
        "data2 = data\n",
        "data3 = data"
      ],
      "metadata": {
        "id": "V6reWOLX6EEF"
      },
      "execution_count": 203,
      "outputs": []
    },
    {
      "cell_type": "code",
      "source": [
        "\n",
        "#abd = np.array([gdp_var,col_y])\n",
        "plt.xlim(0,60000)\n",
        "plt.ylim(0,10)\n",
        "ax1 = plt.scatter(gdp_var,col_y)\n",
        "ax2 = plt.scatter(data['GDP_Per_Capita'], data['life_sat_func'])\n",
        "\n"
      ],
      "metadata": {
        "id": "88T2lSffV7nr",
        "colab": {
          "base_uri": "https://localhost:8080/",
          "height": 289
        },
        "outputId": "cafe9309-1d71-4294-ec47-896e722e9c42"
      },
      "execution_count": 204,
      "outputs": [
        {
          "output_type": "display_data",
          "data": {
            "image/png": "[encoded data removed]",
            "text/plain": [
              "<Figure size 432x288 with 1 Axes>"
            ]
          },
          "metadata": {
            "needs_background": "light"
          }
        }
      ]
    },
    {
      "cell_type": "code",
      "source": [
        "print(data[['Country','GDP_Per_Capita', 'life_sat_func' ]])\n",
        "filter_country = 'Cyprus'\n",
        "data = data[data['Country'].str.contains(filter_country)]\n",
        "print(data[['Country', 'GDP_Per_Capita', 'life_sat_func']])\n",
        "\n",
        "plt.xlim(0,40000)\n",
        "plt.ylim(0,10)\n",
        "ax1 = plt.scatter(data['GDP_Per_Capita'], data['life_sat_func'])\n"
      ],
      "metadata": {
        "colab": {
          "base_uri": "https://localhost:8080/",
          "height": 817
        },
        "id": "XI9KICGuH5C2",
        "outputId": "a8288616-9c1b-4146-8ff6-0ab4ece2d256"
      },
      "execution_count": 205,
      "outputs": [
        {
          "output_type": "stream",
          "name": "stdout",
          "text": [
            "          Country  GDP_Per_Capita  life_sat_func\n",
            "0     Afghanistan       17.318314       4.850850\n",
            "1     Afghanistan     1870.360746       4.941835\n",
            "2     Afghanistan       19.908962       4.850978\n",
            "3     Afghanistan      181.218991       4.858898\n",
            "4     Afghanistan       21.331247       4.851047\n",
            "...           ...             ...            ...\n",
            "2933     Zimbabwe       35.559872       4.851746\n",
            "2934     Zimbabwe       35.883715       4.851762\n",
            "2935     Zimbabwe      456.867875       4.872432\n",
            "2936     Zimbabwe       44.361960       4.852178\n",
            "2937     Zimbabwe       44.783803       4.852199\n",
            "\n",
            "[1649 rows x 3 columns]\n",
            "    Country  GDP_Per_Capita  life_sat_func\n",
            "674  Cyprus    2.373228e+04       6.015255\n",
            "675  Cyprus    2.445998e+03       4.970099\n",
            "676  Cyprus    2.549370e+05      17.367407\n",
            "677  Cyprus    2.865650e+04       6.257034\n",
            "678  Cyprus    3.431803e+04       6.535015\n",
            "679  Cyprus    1.617939e+05      12.794081\n",
            "680  Cyprus    1.949598e+04       5.807253\n",
            "681  Cyprus    1.917186e+05      14.263382\n",
            "682  Cyprus    1.866199e+06      96.480375\n",
            "683  Cyprus    1.983776e+05      14.590340\n",
            "684  Cyprus    2.097501e+07    1034.723201\n",
            "685  Cyprus    2.308338e+03       4.963339\n",
            "686  Cyprus    1.675830e+04       5.672833\n",
            "687  Cyprus    1.623278e+04       5.647029\n",
            "688  Cyprus    1.555507e+04       5.613754\n"
          ]
        },
        {
          "output_type": "display_data",
          "data": {
            "image/png": "[encoded data removed]",
            "text/plain": [
              "<Figure size 432x288 with 1 Axes>"
            ]
          },
          "metadata": {
            "needs_background": "light"
          }
        }
      ]
    },
    {
      "cell_type": "code",
      "source": [
        "print(data2[['Country','GDP_Per_Capita', 'life_sat_func' ]])\n",
        "filter_country = 'Afghanistan'\n",
        "data2 = data2[data2['Country'].str.contains(filter_country)]\n",
        "print(data2[['Country', 'GDP_Per_Capita', 'life_sat_func']])\n",
        "plt.xlim(0,2000)\n",
        "plt.ylim(0,10)\n",
        "ax1 = plt.scatter(data2['GDP_Per_Capita'], data2['life_sat_func'])\n"
      ],
      "metadata": {
        "colab": {
          "base_uri": "https://localhost:8080/",
          "height": 835
        },
        "id": "z_RL5-23k2S5",
        "outputId": "eea83d44-169b-41e0-8761-255727e6b83a"
      },
      "execution_count": 206,
      "outputs": [
        {
          "output_type": "stream",
          "name": "stdout",
          "text": [
            "          Country  GDP_Per_Capita  life_sat_func\n",
            "0     Afghanistan       17.318314       4.850850\n",
            "1     Afghanistan     1870.360746       4.941835\n",
            "2     Afghanistan       19.908962       4.850978\n",
            "3     Afghanistan      181.218991       4.858898\n",
            "4     Afghanistan       21.331247       4.851047\n",
            "...           ...             ...            ...\n",
            "2933     Zimbabwe       35.559872       4.851746\n",
            "2934     Zimbabwe       35.883715       4.851762\n",
            "2935     Zimbabwe      456.867875       4.872432\n",
            "2936     Zimbabwe       44.361960       4.852178\n",
            "2937     Zimbabwe       44.783803       4.852199\n",
            "\n",
            "[1649 rows x 3 columns]\n",
            "        Country  GDP_Per_Capita  life_sat_func\n",
            "0   Afghanistan       17.318314       4.850850\n",
            "1   Afghanistan     1870.360746       4.941835\n",
            "2   Afghanistan       19.908962       4.850978\n",
            "3   Afghanistan      181.218991       4.858898\n",
            "4   Afghanistan       21.331247       4.851047\n",
            "5   Afghanistan      191.917062       4.859423\n",
            "6   Afghanistan     1568.219075       4.927000\n",
            "7   Afghanistan      136.790824       4.856716\n",
            "8   Afghanistan       13.894830       4.850682\n",
            "9   Afghanistan      105.263598       4.855168\n",
            "10  Afghanistan       98.116083       4.854817\n",
            "11  Afghanistan        9.085847       4.850446\n",
            "12  Afghanistan       84.034277       4.854126\n",
            "13  Afghanistan        8.546252       4.850420\n",
            "14  Afghanistan       39.608443       4.851945\n",
            "15  Afghanistan      389.983524       4.869148\n"
          ]
        },
        {
          "output_type": "display_data",
          "data": {
            "image/png": "[encoded data removed]",
            "text/plain": [
              "<Figure size 432x288 with 1 Axes>"
            ]
          },
          "metadata": {
            "needs_background": "light"
          }
        }
      ]
    },
    {
      "cell_type": "code",
      "source": [
        "print(data3[['Country','GDP_Per_Capita', 'life_sat_func' ]])\n",
        "filter_country = 'Australia'\n",
        "data3 = data3[data3['Country'].str.contains(filter_country)]\n",
        "print(data3[['Country', 'GDP_Per_Capita', 'life_sat_func']])\n",
        "plt.xlim(0,60000)\n",
        "plt.ylim(0,10)\n",
        "ax1 = plt.scatter(data3['GDP_Per_Capita'], data3['life_sat_func'])\n"
      ],
      "metadata": {
        "colab": {
          "base_uri": "https://localhost:8080/",
          "height": 800
        },
        "id": "ZT309JzInXsi",
        "outputId": "5b2dcf3f-1a32-412e-eaa8-42e52fe20909"
      },
      "execution_count": 207,
      "outputs": [
        {
          "output_type": "stream",
          "name": "stdout",
          "text": [
            "          Country  GDP_Per_Capita  life_sat_func\n",
            "0     Afghanistan       17.318314       4.850850\n",
            "1     Afghanistan     1870.360746       4.941835\n",
            "2     Afghanistan       19.908962       4.850978\n",
            "3     Afghanistan      181.218991       4.858898\n",
            "4     Afghanistan       21.331247       4.851047\n",
            "...           ...             ...            ...\n",
            "2933     Zimbabwe       35.559872       4.851746\n",
            "2934     Zimbabwe       35.883715       4.851762\n",
            "2935     Zimbabwe      456.867875       4.872432\n",
            "2936     Zimbabwe       44.361960       4.852178\n",
            "2937     Zimbabwe       44.783803       4.852199\n",
            "\n",
            "[1649 rows x 3 columns]\n",
            "       Country  GDP_Per_Capita  life_sat_func\n",
            "113  Australia    2.651163e+04       6.151721\n",
            "114  Australia    2.932530e+03       4.993987\n",
            "115  Australia    2.977687e+03       4.996204\n",
            "116  Australia    2.785964e+05      18.529085\n",
            "117  Australia    2.324402e+05      16.262815\n",
            "118  Australia    1.970477e+05      14.525043\n",
            "119  Australia    2.337250e+05      16.325896\n",
            "120  Australia    1.765449e+05      13.518353\n",
            "121  Australia    1.338755e+06      70.582894\n",
            "122  Australia    1.426722e+05      11.855207\n",
            "123  Australia    1.632218e+05      12.864189\n",
            "124  Australia    1.179438e+05      10.641039\n",
            "125  Australia    1.434084e+03       4.920414\n",
            "126  Australia    1.005401e+06      54.215169\n"
          ]
        },
        {
          "output_type": "display_data",
          "data": {
            "image/png": "[encoded data removed]",
            "text/plain": [
              "<Figure size 432x288 with 1 Axes>"
            ]
          },
          "metadata": {
            "needs_background": "light"
          }
        }
      ]
    }
  ]
}