{
  "nbformat": 4,
  "nbformat_minor": 0,
  "metadata": {
    "colab": {
      "name": "Assignment2.ipynb",
      "provenance": [],
      "collapsed_sections": []
    },
    "kernelspec": {
      "name": "python3",
      "display_name": "Python 3"
    },
    "language_info": {
      "name": "python"
    }
  },
  "cells": [
    {
      "cell_type": "code",
      "source": [
        "import matplotlib.pyplot as plt\n",
        "import seaborn as sns\n",
        "import pandas as pd\n",
        "import numpy as np\n"
      ],
      "metadata": {
        "id": "0RWgaZ34Kayi"
      },
      "execution_count": 74,
      "outputs": []
    },
    {
      "cell_type": "code",
      "source": [
        "# Add utility functions here\n",
        "def calcDistance(df, unlabeled):\n",
        "  d = []\n",
        "  for i in range (len(df)):\n",
        "    x1 = df.iloc[i].x\n",
        "    y1 = df.iloc[i].y\n",
        "    p2 = np.array((x1, y1))\n",
        "    dx = np.sqrt(np.sum(np.square(unlabeled - p2)))\n",
        "    d.append(dx.round(2))\n",
        "  df['distance'] = d\n",
        "  return df\n",
        "\n",
        "def calcKNN(data, knn):\n",
        "  data.sort_values(by=['distance'], ascending=True, inplace=True)\n",
        "  data_knn = data.head(knn)\n",
        "  p = data_knn['class'].value_counts()\n",
        "  return p "
      ],
      "metadata": {
        "id": "8r-ssxZEKn9p"
      },
      "execution_count": 75,
      "outputs": []
    },
    {
      "cell_type": "code",
      "source": [
        "# add main() function here\n",
        "def main(x, y, c, t_x, t_y,k):\n",
        "  status = True\n",
        "\n",
        "  # create data frame with values\n",
        "  dataframe = pd.DataFrame(zip(x,y,c), columns=['x','y','class'])\n",
        "\n",
        "  # Step 1: Choose a value for k\n",
        "  k = k\n",
        "\n",
        "  # Step 2: Calculate the distance from target\n",
        "  target = [t_x,t_y]\n",
        "  answer = calcDistance(dataframe,target)\n",
        "\n",
        "  # Step 3: Determine the Nearest Neighbor \n",
        "  nn = calcKNN(answer,k)\n",
        "  print(nn)\n",
        "\n",
        "  # Step 4: Predict the class label based on the majority vote\n",
        "\n",
        "  return status"
      ],
      "metadata": {
        "id": "jXxzHfblKq9F"
      },
      "execution_count": 76,
      "outputs": []
    },
    {
      "cell_type": "code",
      "source": [
        "# set up the data sets\n",
        "data = pd.read_csv('irisdata.csv')\n",
        "x = data['s_length']\n",
        "y = data['s_width']\n",
        "z = data['p_length']\n",
        "w = data['p_width']\n",
        "l = data['class']\n",
        "\n",
        "target_1_x = 6.2\n",
        "target_1_y = 2.2\n",
        "\n",
        "# then call main passing in the values\n",
        "s = main(x,y,l, target_1_x, target_1_y,5)"
      ],
      "metadata": {
        "id": "4aYRKEzRKxOx",
        "colab": {
          "base_uri": "https://localhost:8080/"
        },
        "outputId": "f55303f0-7fdd-4770-c2fc-7645eccf1208"
      },
      "execution_count": 77,
      "outputs": [
        {
          "output_type": "stream",
          "name": "stdout",
          "text": [
            "Iris-versicolor    3\n",
            "Iris-virginica     2\n",
            "Name: class, dtype: int64\n"
          ]
        }
      ]
    },
    {
      "cell_type": "code",
      "source": [
        "print(\"s_length vs s_width: \\n\")\n",
        "predict = main(x,y,l,5.2,3.8,5)\n",
        "predict = main(x,y,l,5.2,3.8,7)\n",
        "predict = main(x,y,l,5.2,3.8,15)\n",
        "predict = main(x,y,l,5.2,3.8,21)\n"
      ],
      "metadata": {
        "colab": {
          "base_uri": "https://localhost:8080/"
        },
        "id": "7np_6Uga3oDN",
        "outputId": "da26ca0c-4013-4bc2-9c71-499cfa29af0d"
      },
      "execution_count": 78,
      "outputs": [
        {
          "output_type": "stream",
          "name": "stdout",
          "text": [
            "s_length vs s_width: \n",
            "\n",
            "Iris-setosa    5\n",
            "Name: class, dtype: int64\n",
            "Iris-setosa    7\n",
            "Name: class, dtype: int64\n",
            "Iris-setosa    15\n",
            "Name: class, dtype: int64\n",
            "Iris-setosa    21\n",
            "Name: class, dtype: int64\n"
          ]
        }
      ]
    },
    {
      "cell_type": "code",
      "source": [
        "print(\"s_length vs p_length: \\n\")\n",
        "predict = main(x,z,l,5.2,3.8,5)\n",
        "predict = main(x,z,l,5.2,3.8,7)\n",
        "predict = main(x,z,l,5.2,3.8,15)\n",
        "predict = main(x,z,l,5.2,3.8,21)\n"
      ],
      "metadata": {
        "colab": {
          "base_uri": "https://localhost:8080/"
        },
        "id": "nF1kI00O4n0B",
        "outputId": "edca2109-a9ee-4e82-ec1d-0606869b766e"
      },
      "execution_count": 79,
      "outputs": [
        {
          "output_type": "stream",
          "name": "stdout",
          "text": [
            "s_length vs p_length: \n",
            "\n",
            "Iris-versicolor    5\n",
            "Name: class, dtype: int64\n",
            "Iris-versicolor    7\n",
            "Name: class, dtype: int64\n",
            "Iris-versicolor    15\n",
            "Name: class, dtype: int64\n",
            "Iris-versicolor    21\n",
            "Name: class, dtype: int64\n"
          ]
        }
      ]
    },
    {
      "cell_type": "code",
      "source": [
        "print(\"s_length vs p_width: \\n\")\n",
        "predict = main(x,w,l,5.2,3.8,5)\n",
        "predict = main(x,w,l,5.2,3.8,7)\n",
        "predict = main(x,w,l,5.2,3.8,15)\n",
        "predict = main(x,w,l,5.2,3.8,21)\n"
      ],
      "metadata": {
        "colab": {
          "base_uri": "https://localhost:8080/"
        },
        "id": "hm0rQEB95Iww",
        "outputId": "d6a81abb-8e38-4375-a2c3-f873ce01defe"
      },
      "execution_count": 80,
      "outputs": [
        {
          "output_type": "stream",
          "name": "stdout",
          "text": [
            "s_length vs p_width: \n",
            "\n",
            "Iris-virginica    5\n",
            "Name: class, dtype: int64\n",
            "Iris-virginica    7\n",
            "Name: class, dtype: int64\n",
            "Iris-virginica     14\n",
            "Iris-versicolor     1\n",
            "Name: class, dtype: int64\n",
            "Iris-virginica     20\n",
            "Iris-versicolor     1\n",
            "Name: class, dtype: int64\n"
          ]
        }
      ]
    },
    {
      "cell_type": "code",
      "source": [
        "print(\"s_width vs p_length: \\n\")\n",
        "predict = main(y,z,l,5.2,3.8,5)\n",
        "predict = main(y,z,l,5.2,3.8,7)\n",
        "predict = main(y,z,l,5.2,3.8,15)\n",
        "predict = main(y,z,l,5.2,3.8,21)\n"
      ],
      "metadata": {
        "colab": {
          "base_uri": "https://localhost:8080/"
        },
        "id": "HespOpcA5YiS",
        "outputId": "b8672a80-90c0-4c09-d526-ea59da992c75"
      },
      "execution_count": 81,
      "outputs": [
        {
          "output_type": "stream",
          "name": "stdout",
          "text": [
            "s_width vs p_length: \n",
            "\n",
            "Iris-versicolor    5\n",
            "Name: class, dtype: int64\n",
            "Iris-versicolor    7\n",
            "Name: class, dtype: int64\n",
            "Iris-versicolor    15\n",
            "Name: class, dtype: int64\n",
            "Iris-versicolor    19\n",
            "Iris-setosa         1\n",
            "Iris-virginica      1\n",
            "Name: class, dtype: int64\n"
          ]
        }
      ]
    },
    {
      "cell_type": "code",
      "source": [
        "print(\"p_length vs p_width: \\n\")\n",
        "predict = main(y,w,l,5.2,3.8,5)\n",
        "predict = main(y,w,l,5.2,3.8,7)\n",
        "predict = main(y,w,l,5.2,3.8,15)\n",
        "predict = main(y,w,l,5.2,3.8,21)\n"
      ],
      "metadata": {
        "colab": {
          "base_uri": "https://localhost:8080/"
        },
        "id": "nVPXMagf5xMz",
        "outputId": "3cd3f513-41ec-4b2b-c201-59ecafabb95b"
      },
      "execution_count": 82,
      "outputs": [
        {
          "output_type": "stream",
          "name": "stdout",
          "text": [
            "p_length vs p_width: \n",
            "\n",
            "Iris-virginica    5\n",
            "Name: class, dtype: int64\n",
            "Iris-virginica    7\n",
            "Name: class, dtype: int64\n",
            "Iris-virginica    15\n",
            "Name: class, dtype: int64\n",
            "Iris-virginica    21\n",
            "Name: class, dtype: int64\n"
          ]
        }
      ]
    },
    {
      "cell_type": "code",
      "source": [
        "predict = main(y,w,l,5.2,3.8,100)"
      ],
      "metadata": {
        "colab": {
          "base_uri": "https://localhost:8080/"
        },
        "id": "Jz8CD6s458-V",
        "outputId": "b6785d79-415e-4332-a285-d3e0fd156354"
      },
      "execution_count": 83,
      "outputs": [
        {
          "output_type": "stream",
          "name": "stdout",
          "text": [
            "Iris-virginica     50\n",
            "Iris-versicolor    39\n",
            "Iris-setosa        11\n",
            "Name: class, dtype: int64\n"
          ]
        }
      ]
    },
    {
      "cell_type": "code",
      "source": [
        ""
      ],
      "metadata": {
        "id": "LVmc-6x48UMR"
      },
      "execution_count": null,
      "outputs": []
    }
  ]
}