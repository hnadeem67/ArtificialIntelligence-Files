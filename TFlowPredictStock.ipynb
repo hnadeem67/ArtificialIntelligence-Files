{
  "nbformat": 4,
  "nbformat_minor": 0,
  "metadata": {
    "colab": {
      "name": "TFlowPredictStock.ipynb",
      "provenance": [],
      "collapsed_sections": []
    },
    "kernelspec": {
      "name": "python3",
      "display_name": "Python 3"
    },
    "language_info": {
      "name": "python"
    }
  },
  "cells": [
    {
      "cell_type": "code",
      "execution_count": null,
      "metadata": {
        "id": "1U408OcYX5xN"
      },
      "outputs": [],
      "source": [
        "!pip install tensorflow"
      ]
    },
    {
      "cell_type": "code",
      "source": [
        "!pip install yfinance"
      ],
      "metadata": {
        "id": "nc3BNTlXYGuW"
      },
      "execution_count": null,
      "outputs": []
    },
    {
      "cell_type": "code",
      "source": [
        "import numpy as np\n",
        "import pandas as pd \n",
        "import seaborn as sns\n",
        "\n",
        "import tensorflow as tf\n",
        "from tensorflow.keras import Sequential\n",
        "from tensorflow.keras.layers import Dense\n"
      ],
      "metadata": {
        "id": "qw1FAcyjYDez"
      },
      "execution_count": null,
      "outputs": []
    },
    {
      "cell_type": "code",
      "source": [
        "def modelPredict():\n",
        "  model = Sequential((Dense(units=8, input_shape[1])))\n",
        "  model.compile(optimizer='sgd', loss='mean_squared_error')\n",
        "  model.fit(X, y, epochs=10)\n",
        "  print(model.predict([]))\n",
        "\n",
        "  return 0\n",
        "\n",
        "def getStockPrices(s):\n",
        "\n",
        "  return p"
      ],
      "metadata": {
        "id": "ez95Ju37YNj3"
      },
      "execution_count": null,
      "outputs": []
    },
    {
      "cell_type": "code",
      "source": [
        "def main():\n",
        "  prices = getStockPrices('QCOM')\n",
        "  modelPredict(prices)\n",
        "\n",
        "  return 0"
      ],
      "metadata": {
        "id": "m9ea9ufqYxMR"
      },
      "execution_count": null,
      "outputs": []
    }
  ]
}