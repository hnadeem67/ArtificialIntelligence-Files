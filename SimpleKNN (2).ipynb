{
  "nbformat": 4,
  "nbformat_minor": 0,
  "metadata": {
    "colab": {
      "name": "SimpleKNN.ipynb",
      "provenance": []
    },
    "kernelspec": {
      "name": "python3",
      "display_name": "Python 3"
    },
    "language_info": {
      "name": "python"
    }
  },
  "cells": [
    {
      "cell_type": "code",
      "execution_count": 57,
      "metadata": {
        "id": "xO2UTZo-KSvf"
      },
      "outputs": [],
      "source": [
        "# Header Information\n",
        "# Description\n",
        "# Author\n",
        "# Date\n",
        "\n"
      ]
    },
    {
      "cell_type": "code",
      "source": [
        "import matplotlib.pyplot as plt\n",
        "import seaborn as sns\n",
        "import pandas as pd\n",
        "import numpy as np\n"
      ],
      "metadata": {
        "id": "0RWgaZ34Kayi"
      },
      "execution_count": 58,
      "outputs": []
    },
    {
      "cell_type": "code",
      "source": [
        "# Add utility functions here\n",
        "def calcDistance(df, unlabeled):\n",
        "  d = []\n",
        "  for i in range (len(df)):\n",
        "    x1 = df.iloc[i].x\n",
        "    y1 = df.iloc[i].y\n",
        "    p2 = np.array((x1, y1))\n",
        "    dx = np.sqrt(np.sum(np.square(unlabeled - p2)))\n",
        "    d.append(dx.round(2))\n",
        "  df['distance'] = d\n",
        "  return df\n",
        "\n",
        "def calcKNN(data, knn):\n",
        "  data.sort_values(by=['distance'], ascending=True, inplace=True)\n",
        "  data_knn = data.head(knn)\n",
        "  p = data_knn['class'].value_counts()\n",
        "  return p "
      ],
      "metadata": {
        "id": "8r-ssxZEKn9p"
      },
      "execution_count": 59,
      "outputs": []
    },
    {
      "cell_type": "code",
      "source": [
        "# add main() function here\n",
        "def main(x, y, c, t_x, t_y):\n",
        "  status = True\n",
        "\n",
        "  # create data frame with values\n",
        "  dataframe = pd.DataFrame(zip(x,y,c), columns=['x','y','class'])\n",
        "\n",
        "  # Step 1: Choose a value for k\n",
        "  k = 5\n",
        "\n",
        "  # Step 2: Calculate the distance from target\n",
        "  target = [t_x,t_y]\n",
        "  answer = calcDistance(dataframe,target)\n",
        "\n",
        "  # Step 3: Determine the Nearest Neighbor \n",
        "  nn = calcKNN(answer,k)\n",
        "  print(nn)\n",
        "\n",
        "  # Step 4: Predict the class label based on the majority vote\n",
        "\n",
        "  return status"
      ],
      "metadata": {
        "id": "jXxzHfblKq9F"
      },
      "execution_count": 73,
      "outputs": []
    },
    {
      "cell_type": "code",
      "source": [
        "# set up the data sets\n",
        "x = [4,5,6,7,4,5,6,7,4,5,6,7]\n",
        "y = [3,4,4,3,12,14,10,10,6,7,7,6]\n",
        "l = ['S','S','S','S','G','G','G','G','B','B','B','B']\n",
        "\n",
        "target_1_x = 5.5\n",
        "target_1_y = 7\n",
        "\n",
        "# then call main passing in the values\n",
        "s = main(x,y,l, target_1_x, target_1_y)"
      ],
      "metadata": {
        "id": "4aYRKEzRKxOx",
        "colab": {
          "base_uri": "https://localhost:8080/"
        },
        "outputId": "8c67444e-b5b4-4f19-bee7-6dec65405bed"
      },
      "execution_count": 74,
      "outputs": [
        {
          "output_type": "stream",
          "name": "stdout",
          "text": [
            "B    4\n",
            "S    1\n",
            "Name: class, dtype: int64\n"
          ]
        }
      ]
    }
  ]
}