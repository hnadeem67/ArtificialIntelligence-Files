{
  "nbformat": 4,
  "nbformat_minor": 0,
  "metadata": {
    "colab": {
      "name": "GentleIntro.ipynb",
      "provenance": []
    },
    "kernelspec": {
      "name": "python3",
      "display_name": "Python 3"
    },
    "language_info": {
      "name": "python"
    }
  },
  "cells": [
    {
      "cell_type": "code",
      "execution_count": 57,
      "metadata": {
        "id": "y_ONcZ6yF9Si"
      },
      "outputs": [],
      "source": [
        "# Description:  Class Exercise 0 \n",
        "#               This program will demostrate\n",
        "#               simple stats in python\n",
        "#               1. Calculate the mean - population and sample\n",
        "#               2. Calculate the adjusted mean, poplation and sample\n",
        "#\n",
        "# Author: Dr. Steven C. Lindo\n",
        "# Date: 1/27/2022\n",
        "# "
      ]
    },
    {
      "cell_type": "code",
      "source": [
        "import pandas as pd\n",
        "import numpy as np\n",
        "import seaborn as sns\n",
        "import matplotlib.pyplot as plt"
      ],
      "metadata": {
        "id": "35gac6ZvGq7Z"
      },
      "execution_count": 58,
      "outputs": []
    },
    {
      "cell_type": "code",
      "source": [
        "# Functions or Class Definitions\n",
        "def calcMean(p1,p2):\n",
        "  avg = -99999\n",
        "\n",
        "  if \n",
        "  \n",
        "  else:\n",
        "\n",
        "    avg = p1.sum() / len(p1)\n",
        "  \n",
        "  return avg\n",
        "\n",
        "def calcAdjMean():\n",
        "\n",
        "  #\n",
        "  # add your todo code here\n",
        "  #\n",
        "\n",
        "  return results \n"
      ],
      "metadata": {
        "id": "P4qdGrnhHIeD"
      },
      "execution_count": 59,
      "outputs": []
    },
    {
      "cell_type": "code",
      "source": [
        "def main():\n",
        "  status = 0\n",
        "  rows = 5\n",
        "  cols = 2\n",
        "\n",
        "  data = np.random.randint(0,10,size=(5,))\n",
        "  pop_mean = calcMean(data,'pop')\n",
        "  sam_mean = calcMean(data,'sam')\n",
        "\n",
        "  print('Population Mean = ', pop_mean)\n",
        "  print('Sample Mean     = ', sam_mean)\n",
        "\n",
        "  return status "
      ],
      "metadata": {
        "id": "4d6i_LCoICth"
      },
      "execution_count": 60,
      "outputs": []
    },
    {
      "cell_type": "code",
      "source": [
        "# run the program\n",
        "s = main()"
      ],
      "metadata": {
        "colab": {
          "base_uri": "https://localhost:8080/"
        },
        "id": "vUbERX5fIKp6",
        "outputId": "695e917c-bc55-4a9b-f72d-12d422ed5837"
      },
      "execution_count": 61,
      "outputs": [
        {
          "output_type": "stream",
          "name": "stdout",
          "text": [
            "[0 5 6 2 5]\n",
            "3.6\n"
          ]
        }
      ]
    }
  ]
}