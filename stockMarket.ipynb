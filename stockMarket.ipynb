{
  "nbformat": 4,
  "nbformat_minor": 0,
  "metadata": {
    "colab": {
      "name": "stockMarket.ipynb",
      "provenance": []
    },
    "kernelspec": {
      "name": "python3",
      "display_name": "Python 3"
    },
    "language_info": {
      "name": "python"
    }
  },
  "cells": [
    {
      "cell_type": "code",
      "metadata": {
        "colab": {
          "base_uri": "https://localhost:8080/"
        },
        "id": "a-cfP_78c2LO",
        "outputId": "0b67424b-506d-469d-b3ef-4297ad1a9a9a"
      },
      "source": [
        "!pip install yfinance"
      ],
      "execution_count": null,
      "outputs": [
        {
          "output_type": "stream",
          "name": "stdout",
          "text": [
            "Collecting yfinance\n",
            "  Downloading yfinance-0.1.70-py2.py3-none-any.whl (26 kB)\n",
            "Collecting lxml>=4.5.1\n",
            "  Downloading lxml-4.7.1-cp37-cp37m-manylinux_2_17_x86_64.manylinux2014_x86_64.manylinux_2_24_x86_64.whl (6.4 MB)\n",
            "\u001b[K     |████████████████████████████████| 6.4 MB 6.4 MB/s \n",
            "\u001b[?25hRequirement already satisfied: pandas>=0.24.0 in /usr/local/lib/python3.7/dist-packages (from yfinance) (1.3.5)\n",
            "Requirement already satisfied: numpy>=1.15 in /usr/local/lib/python3.7/dist-packages (from yfinance) (1.21.5)\n",
            "Requirement already satisfied: multitasking>=0.0.7 in /usr/local/lib/python3.7/dist-packages (from yfinance) (0.0.10)\n",
            "Collecting requests>=2.26\n",
            "  Downloading requests-2.27.1-py2.py3-none-any.whl (63 kB)\n",
            "\u001b[K     |████████████████████████████████| 63 kB 1.7 MB/s \n",
            "\u001b[?25hRequirement already satisfied: pytz>=2017.3 in /usr/local/lib/python3.7/dist-packages (from pandas>=0.24.0->yfinance) (2018.9)\n",
            "Requirement already satisfied: python-dateutil>=2.7.3 in /usr/local/lib/python3.7/dist-packages (from pandas>=0.24.0->yfinance) (2.8.2)\n",
            "Requirement already satisfied: six>=1.5 in /usr/local/lib/python3.7/dist-packages (from python-dateutil>=2.7.3->pandas>=0.24.0->yfinance) (1.15.0)\n",
            "Requirement already satisfied: idna<4,>=2.5 in /usr/local/lib/python3.7/dist-packages (from requests>=2.26->yfinance) (2.10)\n",
            "Requirement already satisfied: certifi>=2017.4.17 in /usr/local/lib/python3.7/dist-packages (from requests>=2.26->yfinance) (2021.10.8)\n",
            "Requirement already satisfied: charset-normalizer~=2.0.0 in /usr/local/lib/python3.7/dist-packages (from requests>=2.26->yfinance) (2.0.11)\n",
            "Requirement already satisfied: urllib3<1.27,>=1.21.1 in /usr/local/lib/python3.7/dist-packages (from requests>=2.26->yfinance) (1.24.3)\n",
            "Installing collected packages: requests, lxml, yfinance\n",
            "  Attempting uninstall: requests\n",
            "    Found existing installation: requests 2.23.0\n",
            "    Uninstalling requests-2.23.0:\n",
            "      Successfully uninstalled requests-2.23.0\n",
            "  Attempting uninstall: lxml\n",
            "    Found existing installation: lxml 4.2.6\n",
            "    Uninstalling lxml-4.2.6:\n",
            "      Successfully uninstalled lxml-4.2.6\n",
            "\u001b[31mERROR: pip's dependency resolver does not currently take into account all the packages that are installed. This behaviour is the source of the following dependency conflicts.\n",
            "google-colab 1.0.0 requires requests~=2.23.0, but you have requests 2.27.1 which is incompatible.\n",
            "datascience 0.10.6 requires folium==0.2.1, but you have folium 0.8.3 which is incompatible.\u001b[0m\n",
            "Successfully installed lxml-4.7.1 requests-2.27.1 yfinance-0.1.70\n"
          ]
        }
      ]
    },
    {
      "cell_type": "code",
      "metadata": {
        "colab": {
          "base_uri": "https://localhost:8080/",
          "height": 730
        },
        "id": "rQOlxMDYd01M",
        "outputId": "44c1454e-4fe3-4cc6-efd3-731d46c50139"
      },
      "source": [
        "\n",
        "import yfinance as yf\n",
        "import seaborn as sns\n",
        "import time \n",
        "import json\n",
        "\n",
        "def getStockInfo(s):\n",
        "\tv_data = yf.Ticker(s)\n",
        "\tv_info = v_data.history()\n",
        "\treturn v_info\n",
        "\n",
        "def chartPrices(r):\n",
        "  sns.barplot(x=r.index, y='Open', data=r)\n",
        "\n",
        "def main():\n",
        "  sym = 'QCOM'\n",
        "  r = getStockInfo(sym)\n",
        "  print(r)\n",
        "\n",
        "  chartPrices(r)\n",
        "\n",
        "# main - - -\n",
        "main()"
      ],
      "execution_count": null,
      "outputs": [
        {
          "output_type": "stream",
          "name": "stdout",
          "text": [
            "                  Open        High  ...  Dividends  Stock Splits\n",
            "Date                                ...                         \n",
            "2022-01-18  185.869995  186.000000  ...          0             0\n",
            "2022-01-19  180.570007  181.210007  ...          0             0\n",
            "2022-01-20  174.529999  174.990005  ...          0             0\n",
            "2022-01-21  166.240005  172.039993  ...          0             0\n",
            "2022-01-24  162.179993  170.820007  ...          0             0\n",
            "2022-01-25  166.169998  170.320007  ...          0             0\n",
            "2022-01-26  168.580002  174.550003  ...          0             0\n",
            "2022-01-27  169.309998  171.449997  ...          0             0\n",
            "2022-01-28  162.009995  166.940002  ...          0             0\n",
            "2022-01-31  167.059998  175.949997  ...          0             0\n",
            "2022-02-01  176.440002  177.429993  ...          0             0\n",
            "2022-02-02  180.940002  188.639999  ...          0             0\n",
            "2022-02-03  180.800003  192.100006  ...          0             0\n",
            "2022-02-04  178.990005  182.410004  ...          0             0\n",
            "2022-02-07  179.669998  180.649994  ...          0             0\n",
            "2022-02-08  174.309998  179.289993  ...          0             0\n",
            "2022-02-09  181.399994  184.000000  ...          0             0\n",
            "2022-02-10  179.399994  181.990005  ...          0             0\n",
            "2022-02-11  174.699997  175.479996  ...          0             0\n",
            "2022-02-14  165.350006  167.850006  ...          0             0\n",
            "2022-02-15  169.000000  173.960007  ...          0             0\n",
            "2022-02-16  170.679993  171.300003  ...          0             0\n",
            "\n",
            "[22 rows x 7 columns]\n"
          ]
        },
        {
          "output_type": "display_data",
          "data": {
            "image/png": "[encoded data removed]",
            "text/plain": [
              "<Figure size 432x288 with 1 Axes>"
            ]
          },
          "metadata": {
            "needs_background": "light"
          }
        }
      ]
    }
  ]
}