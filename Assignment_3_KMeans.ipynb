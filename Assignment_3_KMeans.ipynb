{
  "nbformat": 4,
  "nbformat_minor": 0,
  "metadata": {
    "colab": {
      "name": "Assignment-3-KMeans.ipynb",
      "provenance": [],
      "collapsed_sections": []
    },
    "kernelspec": {
      "name": "python3",
      "display_name": "Python 3"
    },
    "language_info": {
      "name": "python"
    }
  },
  "cells": [
    {
      "cell_type": "markdown",
      "metadata": {
        "id": "9jTMprpQUxOE"
      },
      "source": [
        "KMeans Algorithm\n",
        "\n",
        "Step1: Choose k value for ex: k=2\n",
        "\n",
        "Step2: Initialize centroids randomly\n",
        "\n",
        "Step3: Calculate Euclidean distance from centroids to each data point and form clusters that are close to centroids\n",
        "\n",
        "Step4: Update the Cluster Classification for each point\n",
        "\n",
        "Step5: Find the centroid of each cluster and update centroids\n",
        "\n",
        "Step:6 Repeat step3\n"
      ]
    },
    {
      "cell_type": "code",
      "metadata": {
        "id": "I1DPn3FreBqu"
      },
      "source": [
        "# History\n",
        "# Name    Date        Description\n",
        "# -   -   -   -   -   -   -   -   -   -   -   -   -   -   -   \n",
        "# scl    9-24-201     Add code to calculate SSE \n",
        "#                     using the elbow method for k\n",
        "# scl    9-24-2021    Modify accept different values for k \n",
        "# scl    9-25-2021    Add preprocessing for using csv input\n",
        "#                     tested with LifeExpectancyData.csv\n",
        "# scl    2-13-2022    Update for assignment 3 using random data.\n",
        "# -   -   -   -   -   -   -   -   -   -   -   -   -   -   -   "
      ],
      "execution_count": null,
      "outputs": []
    },
    {
      "cell_type": "code",
      "metadata": {
        "id": "HvxyKVuAUwuJ"
      },
      "source": [
        "import pandas as pd\n",
        "import numpy as np\n",
        "import seaborn as sns\n",
        "import matplotlib.pyplot as plt"
      ],
      "execution_count": null,
      "outputs": []
    },
    {
      "cell_type": "code",
      "metadata": {
        "id": "JX0owp5nWY-A"
      },
      "source": [
        "def calcDistance(data, p1):\n",
        "  d = []\n",
        "  for i in range(len(data)):\n",
        "    x1 = data.iloc[i].x\n",
        "    y1 = data.iloc[i].y\n",
        "    p2 = np.array((x1,y1))\n",
        "    dx = np.sqrt(np.sum(np.square(p1 - p2)))\n",
        "    d.append(dx)\n",
        "  return d\n",
        "\n",
        "def classifyKMeans(df, kmeans):\n",
        "  res = []\n",
        "\n",
        "  # slice and get only the columns with distances\n",
        "  df_dist = df[df.columns[-kmeans:]]  \n",
        "  \n",
        "  # loop through the points and \n",
        "  # check the closest distances to classify \n",
        "  # which cluster the point belongs to for each iteration\n",
        "  for row in df_dist.iloc:\n",
        "    closest = row.min()\n",
        "    cluster = row.idxmin()\n",
        "    res.append(cluster)\n",
        "  df['class'] = res\n",
        "  return df\n",
        "\n",
        "# -- scl \n",
        "# stop here for now need to fix how to calculate the\n",
        "# new centriods after the points are classified to a cluster\n",
        "#  How do you know?\n",
        "def calcCentroid(df):\n",
        "  c = df.groupby(['class'])\n",
        "  c = c.mean().round(2)\n",
        "  print(c)\n",
        "  return c\n",
        "\n",
        "# scl 2-13-2022 \n",
        "def generateRandomData(num_points, k):\n",
        "  s = np.random.randint(1,99)\n",
        "  np.random.seed(s)\n",
        "  X_features = np.random.randint(1,99, size=(num_points,2))\n",
        "  y_labels = np.random.randint(1,k+1, size=len(X_features))\n",
        "  y_labels = pd.Series(y_labels)\n",
        "  return X_features, y_labels\n"
      ],
      "execution_count": null,
      "outputs": []
    },
    {
      "cell_type": "code",
      "metadata": {
        "id": "3k96JdT2VsIZ"
      },
      "source": [
        "def main():\n",
        "  # First: let's prepare the data that we are going to use\n",
        "  # this is always necessary when do AI and Machine Learning\n",
        "  # it is an important step as data scientists. And also set\n",
        "  # the value for k.  Note that eventually use the elbow method \n",
        "  # for determining the value of k, but for now lets just set it manually\n",
        "  k = 3\n",
        "\n",
        "  # -- scl generate random numbers instead\n",
        "  NUM_POINTS = 20\n",
        "  X, y = generateRandomData(NUM_POINTS, k)\n",
        "\n",
        "  # create the main data frame called data\n",
        "  data = pd.DataFrame(X, columns=['x','y'])\n",
        "  data['class'] = y.values\n",
        "  data.head()\n",
        "\n",
        "  # create the list of centroids base on the value of k\n",
        "  # to represent the number of clusters to try and\n",
        "  # detect with this data set.\n",
        "  centroids = [0 for x in range(k)]\n",
        "  centroids = calcCentroid(data)\n",
        "\n",
        "  iter = 4\n",
        "  i = 1\n",
        "  for iter in range(iter):\n",
        "    for i in range (len(centroids)):\n",
        "      center_point = np.array([(centroids.iloc[i].x, centroids.iloc[i].y)])\n",
        "      dist = calcDistance(data, center_point)\n",
        "      data['dist'+str(i)] = dist\n",
        "      i += 1\n",
        "    i = 1\n",
        "\n",
        "    # classify the points\n",
        "    data = classifyKMeans(data, k)\n",
        "\n",
        "    # calculate new centriods\n",
        "    new_centroids = calcCentroid(data)\n",
        "    centroids = new_centroids\n",
        "\n",
        "    print('\\n- - - - - - - - - - - - - - - - - - - - - - \\n')\n",
        "    print('             ITERATION = ', iter)\n",
        "    print('\\n- - - - - - - - - - - - - - - - - - - - - - \\n')\n",
        "\n",
        "    #print(data)\n",
        "    print('\\n- - - - - - - - - - - - - - - - - - - - - - \\n')\n",
        "\n",
        "  return data"
      ],
      "execution_count": null,
      "outputs": []
    },
    {
      "cell_type": "code",
      "source": [
        "result = main()\n"
      ],
      "metadata": {
        "colab": {
          "base_uri": "https://localhost:8080/"
        },
        "id": "NxV6RdKmCIC7",
        "outputId": "be18dac2-d0db-4722-889b-49db7b662d29"
      },
      "execution_count": null,
      "outputs": [
        {
          "output_type": "stream",
          "name": "stdout",
          "text": [
            "           x      y\n",
            "class              \n",
            "1      45.67  40.78\n",
            "2      71.25  48.75\n",
            "3      38.86  46.29\n",
            "           x      y  dist0  dist1  dist2\n",
            "class                                   \n",
            "dist0  43.75  16.25  25.86  43.98  31.37\n",
            "dist1  80.00  49.00  43.96  28.74  49.28\n",
            "dist2  19.12  53.62  35.88  56.38  29.63\n",
            "\n",
            "- - - - - - - - - - - - - - - - - - - - - - \n",
            "\n",
            "             ITERATION =  0\n",
            "\n",
            "- - - - - - - - - - - - - - - - - - - - - - \n",
            "\n",
            "\n",
            "- - - - - - - - - - - - - - - - - - - - - - \n",
            "\n",
            "           x      y  dist0  dist1  dist2\n",
            "class                                   \n",
            "dist0  48.60  18.00  16.75  45.52  48.04\n",
            "dist1  81.71  52.43  56.90  26.93  68.20\n",
            "dist2  19.12  53.62  47.86  64.55  22.13\n",
            "\n",
            "- - - - - - - - - - - - - - - - - - - - - - \n",
            "\n",
            "             ITERATION =  1\n",
            "\n",
            "- - - - - - - - - - - - - - - - - - - - - - \n",
            "\n",
            "\n",
            "- - - - - - - - - - - - - - - - - - - - - - \n",
            "\n",
            "           x      y  dist0  dist1  dist2\n",
            "class                                   \n",
            "dist0  52.33  18.83  17.06  46.10  50.07\n",
            "dist1  83.50  57.33  57.31  26.25  69.53\n",
            "dist2  19.12  53.62  49.58  65.99  22.13\n",
            "\n",
            "- - - - - - - - - - - - - - - - - - - - - - \n",
            "\n",
            "             ITERATION =  2\n",
            "\n",
            "- - - - - - - - - - - - - - - - - - - - - - \n",
            "\n",
            "\n",
            "- - - - - - - - - - - - - - - - - - - - - - \n",
            "\n",
            "           x      y  dist0  dist1  dist2\n",
            "class                                   \n",
            "dist0  52.33  18.83  16.79  50.89  50.07\n",
            "dist1  83.50  57.33  54.32  26.03  69.53\n",
            "dist2  19.12  53.62  51.51  67.73  22.13\n",
            "\n",
            "- - - - - - - - - - - - - - - - - - - - - - \n",
            "\n",
            "             ITERATION =  3\n",
            "\n",
            "- - - - - - - - - - - - - - - - - - - - - - \n",
            "\n",
            "\n",
            "- - - - - - - - - - - - - - - - - - - - - - \n",
            "\n"
          ]
        }
      ]
    },
    {
      "cell_type": "code",
      "metadata": {
        "colab": {
          "base_uri": "https://localhost:8080/",
          "height": 296
        },
        "id": "jwUlrVP1ZW3w",
        "outputId": "9339c3b9-4fe7-464e-80ae-758dfc8e7332"
      },
      "source": [
        "plt.figure(figsize=(10,4))\n",
        "sns.scatterplot(data=result, x='x', y='y')"
      ],
      "execution_count": null,
      "outputs": [
        {
          "output_type": "execute_result",
          "data": {
            "text/plain": [
              "<matplotlib.axes._subplots.AxesSubplot at 0x7f74beec5dd0>"
            ]
          },
          "metadata": {},
          "execution_count": 159
        },
        {
          "output_type": "display_data",
          "data": {
            "image/png": "[encoded data removed]",
            "text/plain": [
              "<Figure size 720x288 with 1 Axes>"
            ]
          },
          "metadata": {
            "needs_background": "light"
          }
        }
      ]
    },
    {
      "cell_type": "code",
      "metadata": {
        "colab": {
          "base_uri": "https://localhost:8080/",
          "height": 296
        },
        "id": "mM5I-xnpBgne",
        "outputId": "1e398746-3051-4d8b-e3a1-0016f842b7b8"
      },
      "source": [
        "plt.figure(figsize=(10,4))\n",
        "sns.scatterplot(data=result, x=result.x, y=result.y, size='class', sizes=(10,100), hue='class', legend=False)"
      ],
      "execution_count": null,
      "outputs": [
        {
          "output_type": "execute_result",
          "data": {
            "text/plain": [
              "<matplotlib.axes._subplots.AxesSubplot at 0x7f74bee25f50>"
            ]
          },
          "metadata": {},
          "execution_count": 160
        },
        {
          "output_type": "display_data",
          "data": {
            "image/png": "[encoded data removed]",
            "text/plain": [
              "<Figure size 720x288 with 1 Axes>"
            ]
          },
          "metadata": {
            "needs_background": "light"
          }
        }
      ]
    }
  ]
}