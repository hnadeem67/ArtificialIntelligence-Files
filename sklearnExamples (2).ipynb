{
  "nbformat": 4,
  "nbformat_minor": 0,
  "metadata": {
    "colab": {
      "name": "sklearnExamples.ipynb",
      "provenance": [],
      "collapsed_sections": []
    },
    "kernelspec": {
      "name": "python3",
      "display_name": "Python 3"
    },
    "language_info": {
      "name": "python"
    }
  },
  "cells": [
    {
      "cell_type": "code",
      "execution_count": 42,
      "metadata": {
        "id": "bEauhsWTGQLd"
      },
      "outputs": [],
      "source": [
        "# We are going to use sklearn for the following Machine Learning Algorithms\n",
        "# Bayes (NB)\n",
        "# SVM \n",
        "# Regression (linear or poly)\n",
        "# Random Forest\n",
        "# "
      ]
    },
    {
      "cell_type": "code",
      "source": [
        "import seaborn as sns\n",
        "import pandas as pd\n",
        "import numpy as np\n",
        "\n",
        "# sklearn imports below\n",
        "from sklearn.naive_bayes import GaussianNB\n",
        "from sklearn.svm import SVC\n"
      ],
      "metadata": {
        "id": "xbYzd0w_Godc"
      },
      "execution_count": 43,
      "outputs": []
    },
    {
      "cell_type": "code",
      "source": [
        "def mlBayes(X, y):\n",
        "  # init y_predict\n",
        "  y_pred = -1\n",
        "\n",
        "  # create an instance of the object\n",
        "  nbObj = GaussianNB()\n",
        "\n",
        "  # fit or train the model\n",
        "  nbObj.fit(X,y)\n",
        "  p = [[-0.8, -1]]\n",
        "  y_pred = nbObj.predict(p)\n",
        "\n",
        "  return y_pred\n",
        "\n",
        "def mlSVM(X, y):\n",
        "  # init y_predict\n",
        "  y_pred = -1\n",
        "  \n",
        "  # add your todo(s) code here\n",
        "\n",
        "  return y_pred\n",
        "\n",
        "def mlRegression(X,y):\n",
        "  # init y_predict\n",
        "  y_pred = -1\n",
        "\n",
        "  # add your todo(s) code here\n",
        "\n",
        "  return y_pred\n",
        "\n",
        "def mlRandomForest(X, y):\n",
        "  # init y_predict\n",
        "  y_pred = -1\n",
        "\n",
        "  # add your todo(s) code here\n",
        "\n",
        "  return y_pred\n"
      ],
      "metadata": {
        "id": "_0Dd1JRSHHox"
      },
      "execution_count": 44,
      "outputs": []
    },
    {
      "cell_type": "code",
      "source": [
        "def main():\n",
        "  Features = np.array([[-1, -1], [-2, -1], [-3, -2], [1, 1], [2, 1], [3, 2]])\n",
        "  Class = np.array([1, 1, 1, 2, 2, 2])\n",
        "\n",
        "  y_bayes = mlBayes(Features, Class)\n",
        "  y_svm = mlSVM(Features, Class)\n",
        "  y_reg = mlRegression(Features, Class)\n",
        "  y_rf  = mlRandomForest(Features, Class)\n",
        "\n",
        "  print('The predicted value is = ', y_bayes)\n",
        "  print('The predicted value is = ', y_svm)\n",
        "  print('The predicted value is = ', y_reg)\n",
        "  print('The predicted value is = ', y_rf)\n",
        "\n",
        "  return "
      ],
      "metadata": {
        "id": "BUCcqWa2Jc4f"
      },
      "execution_count": 45,
      "outputs": []
    },
    {
      "cell_type": "code",
      "source": [
        "main()"
      ],
      "metadata": {
        "colab": {
          "base_uri": "https://localhost:8080/"
        },
        "id": "QmELfbJuJlZt",
        "outputId": "776c3e58-948f-4ebc-9336-cea082fd0b40"
      },
      "execution_count": 46,
      "outputs": [
        {
          "output_type": "stream",
          "name": "stdout",
          "text": [
            "The predicted value is =  [1]\n",
            "The predicted value is =  -1\n",
            "The predicted value is =  -1\n",
            "The predicted value is =  -1\n"
          ]
        }
      ]
    }
  ]
}