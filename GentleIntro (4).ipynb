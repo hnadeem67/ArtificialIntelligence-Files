{
  "nbformat": 4,
  "nbformat_minor": 0,
  "metadata": {
    "colab": {
      "name": "GentleIntro.ipynb",
      "provenance": []
    },
    "kernelspec": {
      "name": "python3",
      "display_name": "Python 3"
    },
    "language_info": {
      "name": "python"
    }
  },
  "cells": [
    {
      "cell_type": "code",
      "execution_count": 84,
      "metadata": {
        "id": "y_ONcZ6yF9Si"
      },
      "outputs": [],
      "source": [
        "# Description:  Class Exercise 0 \n",
        "#               This program will demostrate\n",
        "#               simple stats in python\n",
        "#               1. Calculate the mean - population and sample\n",
        "#               2. Calculate the adjusted mean, poplation and sample\n",
        "#               3. Compute y-intercept \n",
        "#               4. Compute the slope\n",
        "#               5. Is to approximate based on the formula\n",
        "#                       y = b0 + (b1 * x) \n",
        "#                         where b0 is the y-intercept\n",
        "#                         where b1 is the slope\n",
        "#\n",
        "# Author: Dr. Steven C. Lindo\n",
        "# Date: 1/27/2022\n",
        "# "
      ]
    },
    {
      "cell_type": "code",
      "source": [
        "import pandas as pd\n",
        "import numpy as np\n",
        "import seaborn as sns\n",
        "import matplotlib.pyplot as plt"
      ],
      "metadata": {
        "id": "35gac6ZvGq7Z"
      },
      "execution_count": 85,
      "outputs": []
    },
    {
      "cell_type": "code",
      "source": [
        "# Functions or Class Definitions\n",
        "def calcMean(p1,p2):\n",
        "\n",
        "  if p2 == 'pop':\n",
        "    avg = p1.sum() / len(p1)\n",
        "  elif p2 == 'sam':\n",
        "    avg = p1.sum() / (len(p1) -1)\n",
        "  else:\n",
        "    avg=-99999\n",
        "  \n",
        "  return avg\n",
        "\n",
        "def calcAdjMean(p1, p2):\n",
        "  m  = calcMean(p1, p2)\n",
        "  am = p1 - m\n",
        "\n",
        "  return am\n"
      ],
      "metadata": {
        "id": "P4qdGrnhHIeD"
      },
      "execution_count": 86,
      "outputs": []
    },
    {
      "cell_type": "code",
      "source": [
        "def main():\n",
        "  status = 0\n",
        "  rows = 5\n",
        "  cols = 2\n",
        "\n",
        "  data = np.random.randint(0,10,size=(5,))\n",
        "  pop_mean = calcMean(data,'pop')\n",
        "  sam_mean = calcMean(data,'sam')\n",
        "\n",
        "  print('Population Mean = ', pop_mean)\n",
        "  print('Sample Mean     = ', sam_mean)\n",
        "\n",
        "  pop_adj_mean = calcAdjMean(data,'pop')\n",
        "  sam_adj_mean = calcAdjMean(data,'sam')\n",
        "\n",
        "  print('\\nOriginal data set   = ', data)\n",
        "  print('Population ADJ Mean = ', pop_adj_mean)\n",
        "  print('Sample ADJ Mean     = ', sam_adj_mean)\n",
        "\n",
        "  return status "
      ],
      "metadata": {
        "id": "4d6i_LCoICth"
      },
      "execution_count": 87,
      "outputs": []
    },
    {
      "cell_type": "code",
      "source": [
        "# run the program\n",
        "s = main()"
      ],
      "metadata": {
        "colab": {
          "base_uri": "https://localhost:8080/"
        },
        "id": "vUbERX5fIKp6",
        "outputId": "5fee7ea6-f486-47a8-f019-91849999ab06"
      },
      "execution_count": 88,
      "outputs": [
        {
          "output_type": "stream",
          "name": "stdout",
          "text": [
            "Population Mean =  3.4\n",
            "Sample Mean     =  4.25\n",
            "\n",
            "Original data set   =  [4 5 4 4 0]\n",
            "Population ADJ Mean =  [ 0.6  1.6  0.6  0.6 -3.4]\n",
            "Sample ADJ Mean     =  [-0.25  0.75 -0.25 -0.25 -4.25]\n"
          ]
        }
      ]
    }
  ]
}